{
  "nbformat": 4,
  "nbformat_minor": 0,
  "metadata": {
    "colab": {
      "provenance": []
    },
    "kernelspec": {
      "name": "python3",
      "display_name": "Python 3"
    },
    "language_info": {
      "name": "python"
    }
  },
  "cells": [
    {
      "cell_type": "markdown",
      "source": [
        "**Step 1: Understanding Basic Exception Handling**\n",
        "\n",
        "---\n",
        "\n",
        "\n",
        "First, let's explore the basic syntax of try-except in Python. Start by creating a simple function that divides two numbers, and handle the potential exception of division by zero."
      ],
      "metadata": {
        "id": "TRnwmxGvWgSV"
      }
    },
    {
      "cell_type": "code",
      "execution_count": null,
      "metadata": {
        "colab": {
          "base_uri": "https://localhost:8080/"
        },
        "id": "-Cx-VOIuUdY6",
        "outputId": "85b487ac-319b-4236-be4b-dc420c27fbbf"
      },
      "outputs": [
        {
          "output_type": "stream",
          "name": "stdout",
          "text": [
            "The result of 10 divided by 2 is 5.0\n",
            "Error: Cannot divide by zero!\n",
            "hello\n"
          ]
        }
      ],
      "source": [
        "# Step 1: Basic Exception Handling\n",
        "\n",
        "def divide_numbers(a, b):\n",
        "    try:\n",
        "        result = a / b\n",
        "        print(f\"The result of {a} divided by {b} is {result}\")\n",
        "    except ZeroDivisionError:\n",
        "        print(\"Error: Cannot divide by zero!\")\n",
        "\n",
        "# Test with a valid case\n",
        "divide_numbers(10, 2)\n",
        "\n",
        "# Test with division by zero\n",
        "divide_numbers(10, 0)"
      ]
    },
    {
      "cell_type": "markdown",
      "source": [
        "**Step 2: Handling Multiple Exceptions**\n",
        "\n",
        "---\n",
        "\n",
        "\n",
        "Sometimes, you might need to handle multiple types of exceptions. Let’s modify the function to handle both ZeroDivisionError and TypeError.\n",
        "\n"
      ],
      "metadata": {
        "id": "hHEn1zxyWdim"
      }
    },
    {
      "cell_type": "code",
      "source": [
        "# Step 2: Handling Multiple Exceptions\n",
        "\n",
        "def divide_numbers_extended(a, b):\n",
        "    try:\n",
        "        result = a / b\n",
        "        print(f\"The result of {a} divided by {b} is {result}\")\n",
        "    except ZeroDivisionError:\n",
        "        print(\"Error: Cannot divide by zero!\")\n",
        "    except TypeError:\n",
        "        print(\"Error: Both inputs must be numbers!\")\n",
        "\n",
        "# Test with a TypeError\n",
        "divide_numbers_extended(10, \"2\")  # This will raise a TypeError\n",
        "\n",
        "# Test with a valid case\n",
        "divide_numbers_extended(10, 2)\n",
        "\n",
        "# Test with division by zero\n",
        "divide_numbers_extended(10, 0)\n"
      ],
      "metadata": {
        "colab": {
          "base_uri": "https://localhost:8080/"
        },
        "id": "CA4UTG8sVG-E",
        "outputId": "fbdd7351-d68f-4c29-9376-a7398d3bdac5"
      },
      "execution_count": null,
      "outputs": [
        {
          "output_type": "stream",
          "name": "stdout",
          "text": [
            "Error: Both inputs must be numbers!\n",
            "The result of 10 divided by 2 is 5.0\n",
            "Error: Cannot divide by zero!\n"
          ]
        }
      ]
    },
    {
      "cell_type": "markdown",
      "source": [
        "**Step 3: Using else and finally**\n",
        "\n",
        "---\n",
        "\n",
        "\n",
        "Now, let’s explore the use of the else and finally blocks.\n",
        "\n",
        "else: If no exception occurs, the code inside the else block is executed.\n",
        "finally: The code inside the finally block is always executed, whether an exception occurs or not. It’s often used for cleanup operations."
      ],
      "metadata": {
        "id": "kDogfhouWLsH"
      }
    },
    {
      "cell_type": "code",
      "source": [
        "# Step 3: Using `else` and `finally`\n",
        "\n",
        "def divide_numbers_with_finally(a, b):\n",
        "    try:\n",
        "        result = a / b\n",
        "    except ZeroDivisionError:\n",
        "        print(\"Error: Cannot divide by zero!\")\n",
        "    except TypeError:\n",
        "        print(\"Error: Both inputs must be numbers!\")\n",
        "    else:\n",
        "        print(f\"The result of {a} divided by {b} is {result}\")\n",
        "    finally:\n",
        "        print(\"Execution of divide_numbers_with_finally is complete.\")\n",
        "\n",
        "# Test cases\n",
        "divide_numbers_with_finally(10, 2)   # No exception\n",
        "divide_numbers_with_finally(10, 0)   # ZeroDivisionError\n",
        "divide_numbers_with_finally(10, \"2\") # TypeError\n"
      ],
      "metadata": {
        "colab": {
          "base_uri": "https://localhost:8080/"
        },
        "id": "oeZdafU2WF4N",
        "outputId": "f35f9dab-5749-4cd0-a921-cf05ab25f4a7"
      },
      "execution_count": null,
      "outputs": [
        {
          "output_type": "stream",
          "name": "stdout",
          "text": [
            "The result of 10 divided by 2 is 5.0\n",
            "Execution of divide_numbers_with_finally is complete.\n",
            "Error: Cannot divide by zero!\n",
            "Execution of divide_numbers_with_finally is complete.\n",
            "Error: Both inputs must be numbers!\n",
            "Execution of divide_numbers_with_finally is complete.\n"
          ]
        }
      ]
    },
    {
      "cell_type": "markdown",
      "source": [
        "**Step 4: Raising Custom Exceptions**\n",
        "\n",
        "---\n",
        "\n",
        "\n",
        "In some cases, you may want to raise exceptions deliberately. This can be useful for validating user inputs or ensuring that certain conditions are met.\n",
        "\n",
        "First, let's define a custom exception class called VoterAgeException that will be raised when a person’s age is below 18."
      ],
      "metadata": {
        "id": "uiC-atU_WqVN"
      }
    },
    {
      "cell_type": "code",
      "source": [
        "# Step 1: Create a custom exception class for voter age\n",
        "class VoterAgeException(Exception):\n",
        "    def __init__(self, age, message=\"Age is below the minimum voting age of 18\"):\n",
        "        self.age = age\n",
        "        self.message = message\n",
        "        super().__init__(self.message)\n",
        "\n",
        "    def __str__(self):\n",
        "        return f\"{self.message}. Your age: {self.age}\"\n",
        "\n",
        "\n",
        "# Step 2: Create a function to validate voter age\n",
        "def check_voter_eligibility(age):\n",
        "    try:\n",
        "        if age < 18:\n",
        "            raise VoterAgeException(age)\n",
        "        else:\n",
        "            print(\"You are eligible to vote.\")\n",
        "    except VoterAgeException as e:\n",
        "        print(f\"Voter eligibility error: {e}\")\n",
        "\n",
        "# Test cases\n",
        "check_voter_eligibility(20)  # Valid case\n",
        "check_voter_eligibility(16)  # Invalid case - should raise exception\n"
      ],
      "metadata": {
        "colab": {
          "base_uri": "https://localhost:8080/"
        },
        "id": "DOLbj7SLWvd-",
        "outputId": "8ea11b54-2be8-4582-d61a-a661d94a8672"
      },
      "execution_count": null,
      "outputs": [
        {
          "output_type": "stream",
          "name": "stdout",
          "text": [
            "You are eligible to vote.\n",
            "Voter eligibility error: Age is below the minimum voting age of 18. Your age: 16\n"
          ]
        }
      ]
    }
  ]
}