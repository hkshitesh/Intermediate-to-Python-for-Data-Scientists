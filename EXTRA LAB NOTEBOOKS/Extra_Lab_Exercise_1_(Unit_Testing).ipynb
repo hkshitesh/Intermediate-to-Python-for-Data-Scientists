{
  "nbformat": 4,
  "nbformat_minor": 0,
  "metadata": {
    "colab": {
      "provenance": []
    },
    "kernelspec": {
      "name": "python3",
      "display_name": "Python 3"
    },
    "language_info": {
      "name": "python"
    }
  },
  "cells": [
    {
      "cell_type": "markdown",
      "source": [
        "**Lab Exercise: Unit Testing in Python (Using unittest)**\n",
        "\n",
        "---\n",
        "\n",
        "\n",
        "Objective:\n",
        "To understand how to write and run unit tests for Python code using the unittest module in a Jupyter Notebook or Google Colab environment.\n",
        "\n",
        "\n",
        "Step 1: Writing a Simple Function\n",
        "First, let's define a simple Python class with functions that we'll write unit tests for."
      ],
      "metadata": {
        "id": "tbTgwUa0QXzr"
      }
    },
    {
      "cell_type": "code",
      "execution_count": null,
      "metadata": {
        "id": "bml3stu5OZaU"
      },
      "outputs": [],
      "source": [
        "import unittest"
      ]
    },
    {
      "cell_type": "code",
      "source": [
        "# Create a simple class with methods to test\n",
        "class Calculator:\n",
        "    def add(self, a, b):\n",
        "        return a + b\n",
        "\n",
        "    def subtract(self, a, b):\n",
        "        return a - b\n",
        "\n",
        "    def multiply(self, a, b):\n",
        "        return a * b\n",
        "\n",
        "    def divide(self, a, b):\n",
        "        if b == 0:\n",
        "            raise ValueError(\"Cannot divide by zero\")\n",
        "        return a / b\n"
      ],
      "metadata": {
        "id": "POvu4j-bObbm"
      },
      "execution_count": null,
      "outputs": []
    },
    {
      "cell_type": "code",
      "source": [
        "import unittest\n",
        "\n",
        "# Create a test case for the Calculator class\n",
        "class TestCalculator(unittest.TestCase):\n",
        "\n",
        "    def setUp(self):\n",
        "        # This method is run before each test\n",
        "        self.calc = Calculator()\n",
        "\n",
        "    def test_add(self):\n",
        "        self.assertEqual(self.calc.add(1, 2), 3)\n",
        "        self.assertEqual(self.calc.add(-1, 1), 0)\n",
        "        self.assertEqual(self.calc.add(-1, -1), -2)\n",
        "\n",
        "    def test_subtract(self):\n",
        "        self.assertEqual(self.calc.subtract(10, 5), 5)\n",
        "        self.assertEqual(self.calc.subtract(-1, 1), -2)\n",
        "\n",
        "    def test_multiply(self):\n",
        "        self.assertEqual(self.calc.multiply(3, 3), 9)\n",
        "        self.assertEqual(self.calc.multiply(0, 1), 0)\n",
        "\n",
        "    def test_divide(self):\n",
        "        self.assertEqual(self.calc.divide(10, 2), 5)\n",
        "        self.assertEqual(self.calc.divide(9, 3), 3)\n",
        "\n",
        "\n",
        "# Run the tests\n",
        "unittest.main(argv=[''], verbosity=2, exit=False)\n"
      ],
      "metadata": {
        "colab": {
          "base_uri": "https://localhost:8080/"
        },
        "id": "7zXYxSp1Ol61",
        "outputId": "d7273ae9-ea0c-4ead-bb29-c957a170ae7e"
      },
      "execution_count": null,
      "outputs": [
        {
          "output_type": "stream",
          "name": "stderr",
          "text": [
            "test_add (__main__.TestCalculator) ... ok\n",
            "test_divide (__main__.TestCalculator) ... ok\n",
            "test_multiply (__main__.TestCalculator) ... ok\n",
            "test_subtract (__main__.TestCalculator) ... ok\n",
            "\n",
            "----------------------------------------------------------------------\n",
            "Ran 4 tests in 0.020s\n",
            "\n",
            "OK\n"
          ]
        },
        {
          "output_type": "execute_result",
          "data": {
            "text/plain": [
              "<unittest.main.TestProgram at 0x7a495252afb0>"
            ]
          },
          "metadata": {},
          "execution_count": 12
        }
      ]
    },
    {
      "cell_type": "markdown",
      "source": [
        "**Explanation:**\n",
        "\n",
        "---\n",
        "\n",
        "\n",
        "TestCalculator Class: This class inherits from unittest.TestCase and contains multiple test methods.\n",
        "setUp(): This method is executed before every individual test case, initializing the Calculator object.\n",
        "\n",
        "test_add(), test_subtract(), test_multiply(), test_divide(): Each of these methods tests a specific method in the Calculator class.\n",
        "\n",
        "assertEqual(): Verifies that the result of a function call is equal to the expected result.\n",
        "\n",
        "\n",
        "Running Tests: We use unittest.main() to run the test cases, passing argv=[''] to prevent Jupyter from taking command-line arguments, and exit=False to prevent it from shutting down the kernel after running the tests."
      ],
      "metadata": {
        "id": "gAWQE5-DQVgQ"
      }
    },
    {
      "cell_type": "markdown",
      "source": [],
      "metadata": {
        "id": "FMOBMVKHQWcr"
      }
    }
  ]
}