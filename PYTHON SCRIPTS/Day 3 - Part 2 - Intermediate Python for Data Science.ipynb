{
 "cells": [
  {
   "cell_type": "markdown",
   "id": "ad746c88",
   "metadata": {},
   "source": [
    "# Object-oriented programming in Python\n",
    "\n",
    "Python is multi-purpose and that includes being able to use it for software development. This means it supports object-oriented programming, though there are differences compared to other, statically typed and compiled, languages.\n",
    "\n",
    "What does object-oriented programming mean exactly?\n",
    "\n",
    "It means creating:\n",
    "\n",
    "- **classes** which are *templates* for what attributes and methods an object should have\n",
    "- objects which are **instances** of those classes with concrete values for the various attributes\n",
    "\n",
    "To define a class, you need a name (`PascalCase` by convention unlike the rest of Python which is `snake_case`). Technically you could have no other details:"
   ]
  },
  {
   "cell_type": "code",
   "execution_count": null,
   "id": "a4fa28dd",
   "metadata": {},
   "outputs": [],
   "source": [
    "class BankAccount:\n",
    "    pass"
   ]
  },
  {
   "cell_type": "code",
   "execution_count": null,
   "id": "e222e4c3",
   "metadata": {},
   "outputs": [],
   "source": [
    "account = BankAccount()\n",
    "type(account)"
   ]
  },
  {
   "cell_type": "markdown",
   "id": "1f366159",
   "metadata": {},
   "source": [
    "But that's not very interesting.\n",
    "\n",
    "To define properties in a class, we usually initialise them in the `__init__` method. This is what's called a **magic method** (or \"dunder\" method because of the double underscores) and it's used to manipulate the internals of an object.\n",
    "\n",
    "`__init__` is called immediately after an object is created. It is where we can initialise its attributes.\n",
    "\n",
    "More details about magic methods here: https://rszalski.github.io/magicmethods/ (this was written a while ago and references Python 2 but a lot of the details are still relevant).\n",
    "\n",
    "Here's a shorter tutorial-style explanation of magic methods: https://www.datacamp.com/tutorial/introducing-python-magic-methods"
   ]
  },
  {
   "cell_type": "code",
   "execution_count": null,
   "id": "d11fc4e8",
   "metadata": {},
   "outputs": [],
   "source": [
    "class BankAccount:\n",
    "    def __init__(self, owner, balance):\n",
    "        self.owner = owner\n",
    "        self.balance = balance\n",
    "        \n",
    "    def print_balance(self):\n",
    "        print(f\"The current balance is {self.balance}\")"
   ]
  },
  {
   "cell_type": "markdown",
   "id": "0651365c",
   "metadata": {},
   "source": [
    "**Important: the first parameter in a class's method needs to be `self`. It can be any name, but it will refer to the current _instance_ of a class. (Like `this` in other programming languages)**"
   ]
  },
  {
   "cell_type": "code",
   "execution_count": null,
   "id": "38edad40",
   "metadata": {},
   "outputs": [],
   "source": [
    "# we don't need to pass `self`, Python does that for us\n",
    "# so we just pass in the additional arguments we specified\n",
    "# in the class definition\n",
    "account = BankAccount(\"David\", 10_000)\n",
    "\n",
    "print(account.owner, account.balance)"
   ]
  },
  {
   "cell_type": "markdown",
   "id": "4cff10ea",
   "metadata": {},
   "source": [
    "Those are *instance variables* because they differ between `BankAccount` objects.\n",
    "\n",
    "We can also create *class variables* that have the same value across all instances."
   ]
  },
  {
   "cell_type": "code",
   "execution_count": null,
   "id": "f34bd924",
   "metadata": {},
   "outputs": [],
   "source": [
    "class BankAccount:\n",
    "    bic_swift = \"BANKGB1A\"\n",
    "    \n",
    "    def __init__(self, owner, balance):\n",
    "        self.owner = owner\n",
    "        self.balance = balance\n",
    "        \n",
    "    def print_balance(self):\n",
    "        print(f\"The current balance is {self.balance}\")"
   ]
  },
  {
   "cell_type": "code",
   "execution_count": null,
   "id": "e56ee5ba",
   "metadata": {},
   "outputs": [],
   "source": [
    "account = BankAccount(\"David\", 10_000)\n",
    "account.bic_swift"
   ]
  },
  {
   "cell_type": "code",
   "execution_count": null,
   "id": "ab2ed278",
   "metadata": {},
   "outputs": [],
   "source": [
    "account_2 = BankAccount(\"Jeff B\", 1_000_000_000)\n",
    "account_2.bic_swift"
   ]
  },
  {
   "cell_type": "code",
   "execution_count": null,
   "id": "210d35fe",
   "metadata": {},
   "outputs": [],
   "source": [
    "BankAccount.bic_swift"
   ]
  },
  {
   "cell_type": "markdown",
   "id": "b32ca63b",
   "metadata": {},
   "source": [
    "What's in an object?"
   ]
  },
  {
   "cell_type": "code",
   "execution_count": null,
   "id": "9fba8fb4",
   "metadata": {},
   "outputs": [],
   "source": [
    "account.__dict__"
   ]
  },
  {
   "cell_type": "code",
   "execution_count": null,
   "id": "2426fe13",
   "metadata": {},
   "outputs": [],
   "source": [
    "help(account)"
   ]
  },
  {
   "cell_type": "markdown",
   "id": "c44e1487",
   "metadata": {},
   "source": [
    "Side note: In Python, calling an object's method is the same as calling the method on the class and passing in an instance.\n",
    "\n",
    "Let's see that in action to clear it up.\n",
    "\n",
    "This is how to call a method on a class instance:"
   ]
  },
  {
   "cell_type": "code",
   "execution_count": null,
   "id": "824c3341",
   "metadata": {},
   "outputs": [],
   "source": [
    "# `self` is the instance called `account` by default\n",
    "account.print_balance()"
   ]
  },
  {
   "cell_type": "markdown",
   "id": "e48d48a6",
   "metadata": {},
   "source": [
    "In this alternative usage, we **do** pass in `self` as an argument. You wouldn't see this in practice, it's just how Python functions under the hood:"
   ]
  },
  {
   "cell_type": "code",
   "execution_count": null,
   "id": "62abeb7a",
   "metadata": {},
   "outputs": [],
   "source": [
    "# here we *have* to specify `self` otherwise we get an error\n",
    "BankAccount.print_balance(account)"
   ]
  },
  {
   "cell_type": "markdown",
   "id": "072b11a3",
   "metadata": {},
   "source": [
    "Python has no notion of \"private\" variables like some other programming languages.\n",
    "\n",
    "By convention, anything that starts with an underscore should be treated as \"private\" and not modified directly. Libraries will also warn against changing these internals as they may change in future versions."
   ]
  },
  {
   "cell_type": "code",
   "execution_count": null,
   "id": "9ad89c09",
   "metadata": {},
   "outputs": [],
   "source": [
    "class ClassWithPrivateVar:\n",
    "    def __init__(self):\n",
    "        self._do_not_touch = 123\n",
    "        \n",
    "    def _secret_method(self):\n",
    "        return 42"
   ]
  },
  {
   "cell_type": "code",
   "execution_count": null,
   "id": "f2f15465",
   "metadata": {},
   "outputs": [],
   "source": [
    "v = ClassWithPrivateVar()"
   ]
  },
  {
   "cell_type": "markdown",
   "id": "016ea93d",
   "metadata": {},
   "source": [
    "The \"private\" variable still appears and can be accessed and changed (but it won't appear in autocomplete suggestions):"
   ]
  },
  {
   "cell_type": "code",
   "execution_count": null,
   "id": "f9a525e8",
   "metadata": {},
   "outputs": [],
   "source": [
    "v.__dict__"
   ]
  },
  {
   "cell_type": "code",
   "execution_count": null,
   "id": "fa1dd529",
   "metadata": {},
   "outputs": [],
   "source": [
    "print(v._do_not_touch)"
   ]
  },
  {
   "cell_type": "code",
   "execution_count": null,
   "id": "328f52de",
   "metadata": {},
   "outputs": [],
   "source": [
    "v._do_not_touch = 7\n",
    "\n",
    "print(v._do_not_touch)"
   ]
  },
  {
   "cell_type": "code",
   "execution_count": null,
   "id": "4b973c73",
   "metadata": {},
   "outputs": [],
   "source": [
    "v._secret_method()"
   ]
  },
  {
   "cell_type": "markdown",
   "id": "1b9b5936",
   "metadata": {},
   "source": [
    "You can try to make something *really* private by using **two** underscores:"
   ]
  },
  {
   "cell_type": "code",
   "execution_count": null,
   "id": "c3a5671b",
   "metadata": {},
   "outputs": [],
   "source": [
    "class PrivateClass:\n",
    "    \n",
    "    def __init__(self, a):\n",
    "        self.__a = a"
   ]
  },
  {
   "cell_type": "code",
   "execution_count": null,
   "id": "77dbd279",
   "metadata": {},
   "outputs": [],
   "source": [
    "p = PrivateClass(1)\n",
    "\n",
    "p.__a"
   ]
  },
  {
   "cell_type": "markdown",
   "id": "0a0574b4",
   "metadata": {},
   "source": [
    "But even this isn't fully private, it just gets a different name:"
   ]
  },
  {
   "cell_type": "code",
   "execution_count": null,
   "id": "9587fd64",
   "metadata": {},
   "outputs": [],
   "source": [
    "p.__dict__"
   ]
  },
  {
   "cell_type": "code",
   "execution_count": null,
   "id": "beb53e84",
   "metadata": {},
   "outputs": [],
   "source": [
    "p._PrivateClass__a = 3\n",
    "p.__dict__"
   ]
  },
  {
   "cell_type": "markdown",
   "id": "ceac5f2c",
   "metadata": {},
   "source": [
    "<h1 style=\"color: #fcd805\">Exercise: Creating classes in Python</h1>\n",
    "\n",
    "1. Create an extended version of the `BankAccount` class, which includes:\n",
    "\n",
    "- an account number\n",
    "- a sort code\n",
    "- a Boolean for whether or not it's a joint account\n",
    "\n",
    "Create an instance of your class and verify that you can see these new attributes."
   ]
  },
  {
   "cell_type": "code",
   "execution_count": null,
   "id": "b24e9028",
   "metadata": {},
   "outputs": [],
   "source": []
  },
  {
   "cell_type": "markdown",
   "id": "39210174",
   "metadata": {},
   "source": [
    "2. Create an instance method called `.withdraw` which:\n",
    "\n",
    "- takes in an amount to withdraw\n",
    "- if the amount is less than or equal to the current balance, subtract the amount from the balance\n",
    "- otherwise, print a message to say the withdrawal is not possible\n",
    "- finally, print the new balance\n",
    "\n",
    "Create an instance of your class and verify that the `withdraw` function works as intended."
   ]
  },
  {
   "cell_type": "code",
   "execution_count": null,
   "id": "104ee026",
   "metadata": {},
   "outputs": [],
   "source": []
  },
  {
   "cell_type": "markdown",
   "id": "fc7add5e",
   "metadata": {},
   "source": [
    "# Magic methods\n",
    "\n",
    "There are plenty of magic methods that are used under the hood when you use Python objects.\n",
    "\n",
    "For example printing an object:"
   ]
  },
  {
   "cell_type": "code",
   "execution_count": null,
   "id": "1e4e1d25",
   "metadata": {},
   "outputs": [],
   "source": [
    "print(account)"
   ]
  },
  {
   "cell_type": "markdown",
   "id": "5a525995",
   "metadata": {},
   "source": [
    "Actually calls the interal `__str__` method. So if you want to change what happens when an object is \"printed\" you can redefine this method."
   ]
  },
  {
   "cell_type": "code",
   "execution_count": null,
   "id": "692f1d23",
   "metadata": {},
   "outputs": [],
   "source": [
    "account.__str__()"
   ]
  },
  {
   "cell_type": "code",
   "execution_count": null,
   "id": "802771da",
   "metadata": {},
   "outputs": [],
   "source": [
    "class BankAccount:\n",
    "    def __init__(self, owner, balance):\n",
    "        self.owner = owner\n",
    "        self.balance = balance\n",
    "        \n",
    "    def __str__(self):\n",
    "        return f\"{self.owner}'s balance is {self.balance}\"\n",
    "    \n",
    "    def __repr__(self):\n",
    "        return f\"Account: {self.owner=}, {self.balance=}\"\n",
    "        \n",
    "    def print_balance(self):\n",
    "        print(f\"The current balance is {self.balance}\")"
   ]
  },
  {
   "cell_type": "code",
   "execution_count": null,
   "id": "acff6184",
   "metadata": {},
   "outputs": [],
   "source": [
    "account = BankAccount(\"David\", 10_000)\n",
    "\n",
    "print(account)"
   ]
  },
  {
   "cell_type": "markdown",
   "id": "a12a8fec",
   "metadata": {},
   "source": [
    "In contrast, when you \"look\" at a variable in Jupyter (without calling print) it actually calls the `__repr__` method:"
   ]
  },
  {
   "cell_type": "code",
   "execution_count": null,
   "id": "8c2b1cec",
   "metadata": {},
   "outputs": [],
   "source": [
    "account"
   ]
  },
  {
   "cell_type": "markdown",
   "id": "86dd41a6",
   "metadata": {},
   "source": [
    "### Comparisons\n",
    "\n",
    "Let's say we wanted to tell Python how bank accounts can be compared against each other.\n",
    "\n",
    "Currently this happens:"
   ]
  },
  {
   "cell_type": "code",
   "execution_count": null,
   "id": "cbd0a590",
   "metadata": {},
   "outputs": [],
   "source": [
    "account_1 = BankAccount(\"David\", 10_000)\n",
    "account_2 = BankAccount(\"Jeff B\", 1_000_000_000)\n",
    "\n",
    "account_1 > account_2"
   ]
  },
  {
   "cell_type": "markdown",
   "id": "df53c855",
   "metadata": {},
   "source": [
    "Oops. `BankAccount` is a complex class and Python doesn't know how to compare them.\n",
    "\n",
    "We can fix that!\n",
    "\n",
    "We just need to define what we mean by:\n",
    "\n",
    "- less than, using `__lt__`\n",
    "- less than or equal, using `__le__`\n",
    "- greater than, using `__gt__`\n",
    "- greater than or equal, using `__ge__`"
   ]
  },
  {
   "cell_type": "code",
   "execution_count": null,
   "id": "a1e3c677",
   "metadata": {},
   "outputs": [],
   "source": [
    "class BankAccount:\n",
    "    def __init__(self, owner, balance):\n",
    "        self.owner = owner\n",
    "        self.balance = balance\n",
    "        \n",
    "    def __str__(self):\n",
    "        return f\"{self.owner}'s balance is {self.balance}\"\n",
    "    \n",
    "    def __repr__(self):\n",
    "        return f\"Account: {self.owner=}, {self.balance=}\"\n",
    "    \n",
    "    # New magic methods to define <, <=, > and >= for bank accounts\n",
    "    \n",
    "    def __lt__(self, other):\n",
    "        return self.balance < other.balance\n",
    "    \n",
    "    def __le__(self, other):\n",
    "        return self.balance <= other.balance\n",
    "    \n",
    "    def __gt__(self, other):\n",
    "        return self.balance > other.balance\n",
    "\n",
    "    def __ge__(self, other):\n",
    "        return self.balance >= other.balance\n",
    "        \n",
    "    def print_balance(self):\n",
    "        print(f\"The current balance is {self.balance}\")"
   ]
  },
  {
   "cell_type": "code",
   "execution_count": null,
   "id": "6890569f",
   "metadata": {},
   "outputs": [],
   "source": [
    "account_1 = BankAccount(\"David\", 10_000)\n",
    "account_2 = BankAccount(\"Jeff B\", 1_000_000_000)\n",
    "\n",
    "print(account_1 < account_2)\n",
    "print(account_2 <= account_1)\n",
    "print(account_1 > account_2)\n",
    "print(account_2 >= account_1)"
   ]
  },
  {
   "cell_type": "markdown",
   "id": "5f011af7",
   "metadata": {},
   "source": [
    "### Encapsulation\n",
    "\n",
    "There are technically ways to make instance variables readonly (sort of) using magic methods (more here: https://rszalski.github.io/magicmethods/#access).\n",
    "\n",
    "We can override the `__getattr__` and `__setattr__` methods which are called under the hood when you retrieve or overwrite an attribute.\n",
    "\n",
    "`__getattr__` gets called when an attribute is not found in an object. This lets you deal with errors in a controlled way."
   ]
  },
  {
   "cell_type": "code",
   "execution_count": null,
   "id": "ec271cec",
   "metadata": {},
   "outputs": [],
   "source": [
    "class ExampleClass:\n",
    "    \n",
    "    def __init__(self, a, b):\n",
    "        self.a = a\n",
    "        self.b = b\n",
    "    \n",
    "    def __getattr__(self, name):\n",
    "        print(f\"{name} not found in this object\")"
   ]
  },
  {
   "cell_type": "code",
   "execution_count": null,
   "id": "6457cc68",
   "metadata": {},
   "outputs": [],
   "source": [
    "eg = ExampleClass(1, 2)\n",
    "\n",
    "eg.a"
   ]
  },
  {
   "cell_type": "code",
   "execution_count": null,
   "id": "456f40f6",
   "metadata": {},
   "outputs": [],
   "source": [
    "eg.c"
   ]
  },
  {
   "cell_type": "markdown",
   "id": "76af8f66",
   "metadata": {},
   "source": [
    "`__setattr__` gets called whenever you try to set an attribute *regardless of whether it exists*."
   ]
  },
  {
   "cell_type": "code",
   "execution_count": null,
   "id": "d8e4de88",
   "metadata": {},
   "outputs": [],
   "source": [
    "class ExampleSetClass:\n",
    "    def __init__(self, a, b, readonly):\n",
    "        self.a = a\n",
    "        self.b = b\n",
    "        \n",
    "        # we can't do self.readonly = readonly because it triggers __setattr__\n",
    "        # so we modify the internal dict directly\n",
    "        self.__dict__[\"readonly\"] = readonly\n",
    "        \n",
    "    def __setattr__(self, name, value):\n",
    "        if name == \"readonly\":\n",
    "            print(\"Cannot modify the readonly attribute!\")\n",
    "        else:\n",
    "            # you can't do self.name = value\n",
    "            # because that would call __setattr__ again and cause an infinite loop\n",
    "            # instead, we manipulate the internal dict:\n",
    "            self.__dict__[name] = value"
   ]
  },
  {
   "cell_type": "code",
   "execution_count": null,
   "id": "0ff1fd45",
   "metadata": {},
   "outputs": [],
   "source": [
    "eg_2 = ExampleSetClass(1, 2, 123)\n",
    "\n",
    "eg_2.a"
   ]
  },
  {
   "cell_type": "code",
   "execution_count": null,
   "id": "9ae0283e",
   "metadata": {},
   "outputs": [],
   "source": [
    "eg_2.readonly"
   ]
  },
  {
   "cell_type": "code",
   "execution_count": null,
   "id": "3d943c77",
   "metadata": {},
   "outputs": [],
   "source": [
    "eg_2.readonly = 1456"
   ]
  },
  {
   "cell_type": "code",
   "execution_count": null,
   "id": "1e9fe2d5",
   "metadata": {},
   "outputs": [],
   "source": [
    "eg_2.readonly"
   ]
  },
  {
   "cell_type": "markdown",
   "id": "898f90c4",
   "metadata": {},
   "source": [
    "But even this isn't *really* readonly because we can always turn to magic methods..."
   ]
  },
  {
   "cell_type": "code",
   "execution_count": null,
   "id": "3378fd34",
   "metadata": {},
   "outputs": [],
   "source": [
    "eg_2.__dict__[\"readonly\"] = 789\n",
    "\n",
    "eg_2.readonly"
   ]
  },
  {
   "cell_type": "markdown",
   "id": "49794b8b",
   "metadata": {},
   "source": [
    "<h1 style=\"color: #fcd805\">Exercise: Magic methods in Python</h1>\n",
    "\n",
    "Here are some requirements for creating a `Loan` class. Use them to code the class and check that all requirements are met. \n",
    "\n",
    "1. It should contain the following attributes:\n",
    "\n",
    "- initial loan amount\n",
    "- remaining loan amount\n",
    "    - this should not be specified by the user, but set to be the same as the initial loan amount\n",
    "- interest rate\n",
    "- term (in years)\n",
    "\n",
    "2. The initial loan amount, interest rate and term should all be readonly.\n",
    "\n",
    "3. One `Loan` object is \"bigger\" than another if the initial loan amount is bigger. Implement all the necessary magic methods to make this work.\n",
    "\n",
    "4. When printed, a loan object should detail all its attributes: the initial loan amount, the interest rate, the term and what's remaining of the loan.\n",
    "\n",
    "5. BONUS: find the right magic method and implement it so that when the Python function `len()` is called on a `Loan`, the remaining loan amount is returned."
   ]
  },
  {
   "cell_type": "code",
   "execution_count": null,
   "id": "7d1a743a",
   "metadata": {},
   "outputs": [],
   "source": []
  },
  {
   "cell_type": "markdown",
   "id": "127d9970",
   "metadata": {},
   "source": [
    "### Dataclasses\n",
    "\n",
    "Since Python 3.7, it is possible to create something called a `dataclass`. This is a way to create classes in Python without having a bloated `__init__` method. Instead, we specify all the attributes and their types and everything else just works."
   ]
  },
  {
   "cell_type": "code",
   "execution_count": null,
   "id": "da265b96",
   "metadata": {},
   "outputs": [],
   "source": [
    "from dataclasses import dataclass\n",
    "\n",
    "@dataclass\n",
    "class Mortgage:\n",
    "    \n",
    "    loan_amount: float\n",
    "    interest_rate: float\n",
    "    term: int"
   ]
  },
  {
   "cell_type": "code",
   "execution_count": null,
   "id": "1878a529",
   "metadata": {},
   "outputs": [],
   "source": [
    "mortgage = Mortgage(10_000, 2.5, 35)\n",
    "mortgage"
   ]
  },
  {
   "cell_type": "code",
   "execution_count": null,
   "id": "542df9eb",
   "metadata": {},
   "outputs": [],
   "source": [
    "type(mortgage)"
   ]
  },
  {
   "cell_type": "markdown",
   "id": "95812704",
   "metadata": {},
   "source": [
    "_Note: because Python is dynamically typed, that type information is **not** enforced. They are simply \"hints\" to the user_"
   ]
  },
  {
   "cell_type": "code",
   "execution_count": null,
   "id": "064f7066",
   "metadata": {},
   "outputs": [],
   "source": [
    "Mortgage(\"LOAN\", [\"INTEREST_RATE\"], True)"
   ]
  },
  {
   "cell_type": "markdown",
   "id": "87a2e54f",
   "metadata": {},
   "source": [
    "Similarly, these type \"hints\" are supported when creating functions.\n",
    "\n",
    "We can specify what types input variables should be and what the function returns:"
   ]
  },
  {
   "cell_type": "code",
   "execution_count": null,
   "id": "d42cf343",
   "metadata": {},
   "outputs": [],
   "source": [
    "def rectangle_area(width: float, height: float) -> float:\n",
    "    return width * height"
   ]
  },
  {
   "cell_type": "code",
   "execution_count": null,
   "id": "abe70202",
   "metadata": {},
   "outputs": [],
   "source": [
    "rectangle_area(42, 7)"
   ]
  },
  {
   "cell_type": "markdown",
   "id": "45b06d90",
   "metadata": {},
   "source": [
    "But again, this is **not** enforced:"
   ]
  },
  {
   "cell_type": "code",
   "execution_count": null,
   "id": "0a1dd655",
   "metadata": {},
   "outputs": [],
   "source": [
    "rectangle_area(\"hello\", [])"
   ]
  },
  {
   "cell_type": "markdown",
   "id": "688781eb",
   "metadata": {},
   "source": [
    "There are ways to do \"static type checking\" in Python, like `mypy`: https://mypy.readthedocs.io/en/stable/index.html"
   ]
  },
  {
   "cell_type": "markdown",
   "id": "e5630eae",
   "metadata": {},
   "source": [
    "### Further resources:\n",
    "\n",
    "- To visualise what your Python code is doing: https://pythontutor.com/\n",
    "- Beginner OOP tutorials: https://www.w3schools.com/python/python_classes.asp\n",
    "- Information about adding types to Python: https://realpython.com/python-type-checking/\n",
    "- Advanced Python content on Arjan Codes' YouTube channel: https://www.youtube.com/@ArjanCodes"
   ]
  }
 ],
 "metadata": {
  "kernelspec": {
   "display_name": "Python 3 (ipykernel)",
   "language": "python",
   "name": "python3"
  },
  "language_info": {
   "codemirror_mode": {
    "name": "ipython",
    "version": 3
   },
   "file_extension": ".py",
   "mimetype": "text/x-python",
   "name": "python",
   "nbconvert_exporter": "python",
   "pygments_lexer": "ipython3",
   "version": "3.11.5"
  }
 },
 "nbformat": 4,
 "nbformat_minor": 5
}
