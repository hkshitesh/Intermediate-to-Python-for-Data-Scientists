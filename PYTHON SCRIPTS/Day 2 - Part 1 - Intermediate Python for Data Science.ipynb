{
 "cells": [
  {
   "cell_type": "markdown",
   "id": "1ae79e37-1f33-4956-8dd6-1fe86fbe9c64",
   "metadata": {},
   "source": [
    "---\n",
    "\n",
    "# Data visualisation with `pandas`\n",
    "\n",
    "The `pandas` library doesn't just manipulate data, it can also visualise it."
   ]
  },
  {
   "cell_type": "code",
   "execution_count": null,
   "id": "9d2b1bc8",
   "metadata": {},
   "outputs": [],
   "source": [
    "import pandas as pd"
   ]
  },
  {
   "cell_type": "code",
   "execution_count": null,
   "id": "72fedd08",
   "metadata": {},
   "outputs": [],
   "source": [
    "loans = pd.read_csv(\"./data/loans.csv\")"
   ]
  },
  {
   "cell_type": "markdown",
   "id": "cd6886ab",
   "metadata": {},
   "source": [
    "### Distributions\n",
    "\n",
    "`pandas` supports different visualisations for looking at the distribution of our data."
   ]
  },
  {
   "cell_type": "code",
   "execution_count": null,
   "id": "c098a788",
   "metadata": {},
   "outputs": [],
   "source": [
    "loans.head()"
   ]
  },
  {
   "cell_type": "markdown",
   "id": "f0f21dd7",
   "metadata": {},
   "source": [
    "The `.describe` method gives us some indication of the values in a column:"
   ]
  },
  {
   "cell_type": "code",
   "execution_count": null,
   "id": "b0edcf72",
   "metadata": {},
   "outputs": [],
   "source": [
    "loans[\"loan_amnt\"].describe()"
   ]
  },
  {
   "cell_type": "markdown",
   "id": "554d03a0",
   "metadata": {},
   "source": [
    "But really we want to see the full distribution visually.\n",
    "\n",
    "In most cases there is a plotting method we can add on to a `DataFrame` to visualise it.\n",
    "\n",
    "For example, to see a histogram of a column, we can use `.hist()`:"
   ]
  },
  {
   "cell_type": "code",
   "execution_count": null,
   "id": "a7921f2a",
   "metadata": {},
   "outputs": [],
   "source": [
    "loans[\"loan_amnt\"].hist()"
   ]
  },
  {
   "cell_type": "markdown",
   "id": "0d6a85f3",
   "metadata": {},
   "source": [
    "The default options are usually pretty good, but we can change anything about the plot"
   ]
  },
  {
   "cell_type": "code",
   "execution_count": null,
   "id": "e6c829b3",
   "metadata": {},
   "outputs": [],
   "source": [
    "loans[\"loan_amnt\"].hist(bins=20, color=\"green\", figsize=(10, 4))"
   ]
  },
  {
   "cell_type": "markdown",
   "id": "ccb62d2d",
   "metadata": {},
   "source": [
    "The `DataFrame` also has a `.hist()` method if you want a histogram *per group*.\n",
    "\n",
    "We can also suppress the output (`.hist()` returns an array of axis objects) by either:\n",
    "\n",
    "- adding a semicolon `;` to the end of the statement\n",
    "- saving the output of the plotting function (in this case `.hist()`) into a variable we don't then use. The Python convention for that is to use `_`"
   ]
  },
  {
   "cell_type": "code",
   "execution_count": null,
   "id": "00ecf193",
   "metadata": {},
   "outputs": [],
   "source": [
    "_ = loans.hist(column=\"loan_amnt\", by=\"purpose\", figsize=(10, 10))"
   ]
  },
  {
   "cell_type": "markdown",
   "id": "6537a8dc",
   "metadata": {},
   "source": [
    "#### Note\n",
    "\n",
    "As a rule of thumb, if a plot requires a *single column* (e.g. a histogram of a single column), the plotting function will be called on the `Series`.\n",
    "\n",
    "If a plot requires multiple columns (e.g. a scatterplot) the plotting function will be called on the `DataFrame`.\n",
    "\n",
    "---\n",
    "\n",
    "`pandas` also support box and whisker plots"
   ]
  },
  {
   "cell_type": "code",
   "execution_count": null,
   "id": "365bdceb",
   "metadata": {},
   "outputs": [],
   "source": [
    "_ = loans.boxplot(\"loan_amnt\")"
   ]
  },
  {
   "cell_type": "markdown",
   "id": "572db3d6",
   "metadata": {},
   "source": [
    "Different plots have different options:"
   ]
  },
  {
   "cell_type": "code",
   "execution_count": null,
   "id": "42387702",
   "metadata": {},
   "outputs": [],
   "source": [
    "_ = loans.boxplot(\"loan_amnt\", vert=False)"
   ]
  },
  {
   "cell_type": "markdown",
   "id": "4647741f",
   "metadata": {},
   "source": [
    "Box plots are also available at the dataset level, to visualise them per category"
   ]
  },
  {
   "cell_type": "code",
   "execution_count": null,
   "id": "73c271bd",
   "metadata": {},
   "outputs": [],
   "source": [
    "_ = loans.boxplot(column=\"int_rate\", by=\"home_ownership\", figsize=(12, 5))"
   ]
  },
  {
   "cell_type": "markdown",
   "id": "6e154e09",
   "metadata": {},
   "source": [
    "### Bar charts\n",
    "\n",
    "The trick with `pandas` plots is to make sure the data is the right format first. Then, it's usually a matter of calling the correct plotting function (sometimes it's just `.plot()`!).\n",
    "\n",
    "For bar charts, if you have aggregated data, you can plot it as a bar chart with a simple command."
   ]
  },
  {
   "cell_type": "code",
   "execution_count": null,
   "id": "e3fb33ed",
   "metadata": {},
   "outputs": [],
   "source": [
    "loans[\"grade\"].value_counts().sort_index()"
   ]
  },
  {
   "cell_type": "code",
   "execution_count": null,
   "id": "18da9571",
   "metadata": {},
   "outputs": [],
   "source": [
    "_ = loans[\"grade\"].value_counts().sort_index().plot(kind=\"bar\")\n",
    "\n",
    "# can also do this:\n",
    "# loans[\"grade\"].value_counts().sort_index().plot.bar()"
   ]
  },
  {
   "cell_type": "markdown",
   "id": "2af3ad76",
   "metadata": {},
   "source": [
    "The same can be done for any aggregated data"
   ]
  },
  {
   "cell_type": "code",
   "execution_count": null,
   "id": "870ebc74",
   "metadata": {},
   "outputs": [],
   "source": [
    "avg_loan_by_grade = loans.groupby(\"grade\")[\"loan_amnt\"].median()\n",
    "avg_loan_by_grade"
   ]
  },
  {
   "cell_type": "markdown",
   "id": "6a0bf5bf",
   "metadata": {},
   "source": [
    "To create a horizontal bar chart, use `\"barh\"`"
   ]
  },
  {
   "cell_type": "code",
   "execution_count": null,
   "id": "96ec0fc1",
   "metadata": {},
   "outputs": [],
   "source": [
    "_ = avg_loan_by_grade.plot(kind=\"barh\")"
   ]
  },
  {
   "cell_type": "markdown",
   "id": "498453a9",
   "metadata": {},
   "source": [
    "Ah, not quite! The trick here is to have the data in **reverse order** (because horizontal bar charts start from the x-axis and go *up*)"
   ]
  },
  {
   "cell_type": "code",
   "execution_count": null,
   "id": "2f9bc1c1",
   "metadata": {},
   "outputs": [],
   "source": [
    "_ = avg_loan_by_grade.sort_index(ascending=False).plot(kind=\"barh\")"
   ]
  },
  {
   "cell_type": "markdown",
   "id": "c5165fb7",
   "metadata": {},
   "source": [
    "<h1 style=\"color: #fcd805\">Exercise: distributions and bar charts</h1>\n",
    "\n",
    "Back to the Kickstarter dataset.\n",
    "\n",
    "1. Read the Kickstarter data into a `DataFrame` (reminder: it's the `kickstarter.csv.gz` in the `data` folder)"
   ]
  },
  {
   "cell_type": "code",
   "execution_count": null,
   "id": "e4f09ef3",
   "metadata": {},
   "outputs": [],
   "source": []
  },
  {
   "cell_type": "markdown",
   "id": "09a40f34",
   "metadata": {},
   "source": [
    "2. Visualise the distribution of the goal amount across the entire dataset using a histogram.\n",
    "\n",
    "What conclusions do you draw?"
   ]
  },
  {
   "cell_type": "code",
   "execution_count": null,
   "id": "d17b1455",
   "metadata": {},
   "outputs": [],
   "source": []
  },
  {
   "cell_type": "markdown",
   "id": "9be23ad3",
   "metadata": {},
   "source": [
    "3. Compare the distribution of the goal amount across different categories using boxplots.\n",
    "\n",
    "What do you conclude?"
   ]
  },
  {
   "cell_type": "code",
   "execution_count": null,
   "id": "8aebcb7e",
   "metadata": {},
   "outputs": [],
   "source": []
  },
  {
   "cell_type": "markdown",
   "id": "c268aa4f",
   "metadata": {},
   "source": [
    "4. Create a column to calculate the pledged amount as a percentage of the goal amount."
   ]
  },
  {
   "cell_type": "code",
   "execution_count": null,
   "id": "5f6043d3",
   "metadata": {},
   "outputs": [],
   "source": []
  },
  {
   "cell_type": "markdown",
   "id": "66301380",
   "metadata": {},
   "source": [
    "5. Visualise the *average* of this percentage for each \"state\" of projects, as a bar chart.\n",
    "\n",
    "Each bar will represent the average \"completion rate\" of a project across successful and failed projects (and any other category that appears in the `state` column)."
   ]
  },
  {
   "cell_type": "code",
   "execution_count": null,
   "id": "51a1de27",
   "metadata": {},
   "outputs": [],
   "source": []
  },
  {
   "cell_type": "markdown",
   "id": "b373336c",
   "metadata": {},
   "source": [
    "## Scatter plots and correlation\n",
    "\n",
    "To calculate correlation in our data, `pandas` has a built-in `.corr()` method."
   ]
  },
  {
   "cell_type": "code",
   "execution_count": null,
   "id": "3a1f02f2",
   "metadata": {},
   "outputs": [],
   "source": [
    "loans.corr(numeric_only=True)"
   ]
  },
  {
   "cell_type": "markdown",
   "id": "04baa247",
   "metadata": {},
   "source": [
    "Some high correlation values, such as the size of the installment is obviously correlated with the size of the loan.\n",
    "\n",
    "Looks like a person's annual income is also positively correlated with the size of the loan (and therefore the installment). At around 0.22, this isn't a strong relationship though.\n",
    "\n",
    "Another way to assess the relationship between variables is to visualise it with a scatter plot:"
   ]
  },
  {
   "cell_type": "code",
   "execution_count": null,
   "id": "c6f94d65",
   "metadata": {},
   "outputs": [],
   "source": [
    "_ = loans.plot(kind=\"scatter\", x=\"annual_inc\", y=\"loan_amnt\")"
   ]
  },
  {
   "cell_type": "markdown",
   "id": "a01c269b",
   "metadata": {},
   "source": [
    "There are some outliers, so let's zoom in by removing them.\n",
    "\n",
    "In `pandas`, don't try to do this in the plot itself, do it in the data before you plot (although, you could set the limits of the plot's axes after the fact as well)."
   ]
  },
  {
   "cell_type": "code",
   "execution_count": null,
   "id": "f818e2cf",
   "metadata": {},
   "outputs": [],
   "source": [
    "_ = loans[loans[\"annual_inc\"] < 500_000].plot(kind=\"scatter\", x=\"annual_inc\", y=\"loan_amnt\")"
   ]
  },
  {
   "cell_type": "markdown",
   "id": "92ad12bf",
   "metadata": {},
   "source": [
    "That's better, but messy. We can change the transparency of the points to prevent \"overplotting\" and see denser areas."
   ]
  },
  {
   "cell_type": "code",
   "execution_count": null,
   "id": "bd93ac7f",
   "metadata": {},
   "outputs": [],
   "source": [
    "_ = loans[loans[\"annual_inc\"] < 500_000].plot(kind=\"scatter\", x=\"annual_inc\", y=\"loan_amnt\", alpha=0.2)"
   ]
  },
  {
   "cell_type": "markdown",
   "id": "09b78192",
   "metadata": {},
   "source": [
    "<h1 style=\"color: #fcd805\">Exercise: scatter plots and correlation</h1>\n",
    "\n",
    "Looking at the Kickstarter data, answer the following questions.\n",
    "\n",
    "1. Is there a relationship between the goal amount and the amount that was pledged for a project?\n",
    "\n",
    "Answer this question both numerically and visually."
   ]
  },
  {
   "cell_type": "code",
   "execution_count": null,
   "id": "7b476701",
   "metadata": {},
   "outputs": [],
   "source": []
  },
  {
   "cell_type": "markdown",
   "id": "f060598d",
   "metadata": {},
   "source": [
    "2. Is there a relationship between the number of backers and the *percentage* of the goal that was reached?\n",
    "\n",
    "Answer this question both numerically and visually.\n",
    "\n",
    "_Note: you will need your created column for this from a previous exercise!_"
   ]
  },
  {
   "cell_type": "code",
   "execution_count": null,
   "id": "42738e85",
   "metadata": {},
   "outputs": [],
   "source": []
  },
  {
   "cell_type": "markdown",
   "id": "0f079548",
   "metadata": {},
   "source": [
    "## Line charts & dates in `pandas`\n",
    "\n",
    "Line charts are generally used for time series data.\n",
    "\n",
    "For time series data, we need dates. Specifically, columns that are a date type."
   ]
  },
  {
   "cell_type": "code",
   "execution_count": null,
   "id": "a0c1130c",
   "metadata": {},
   "outputs": [],
   "source": [
    "loans.head()"
   ]
  },
  {
   "cell_type": "markdown",
   "id": "8c0caa6e",
   "metadata": {},
   "source": [
    "We actually have a date disguised as a text column!\n",
    "\n",
    "`pandas` can convert text to dates as long as we specify the format the dates are in.\n",
    "\n",
    "How do you know what to put in the `format` section?\n",
    "\n",
    "Here is the reference page: https://strftime.org/"
   ]
  },
  {
   "cell_type": "code",
   "execution_count": null,
   "id": "2b58da54",
   "metadata": {},
   "outputs": [],
   "source": [
    "# %b is \"abbreviated month name\", e.g. \"Jan\"\n",
    "# %Y is year, e.g. 2014\n",
    "loans[\"date\"] = pd.to_datetime(loans[\"issue_d\"], format=\"%b-%Y\")\n",
    "\n",
    "loans.head()"
   ]
  },
  {
   "cell_type": "code",
   "execution_count": null,
   "id": "5832945f",
   "metadata": {},
   "outputs": [],
   "source": [
    "loans.dtypes"
   ]
  },
  {
   "cell_type": "markdown",
   "id": "5aa56e6e",
   "metadata": {},
   "source": [
    "Now that we have a date type, we can access date functionality of that column:"
   ]
  },
  {
   "cell_type": "code",
   "execution_count": null,
   "id": "197813f0",
   "metadata": {},
   "outputs": [],
   "source": [
    "loans[\"date\"].dt.year"
   ]
  },
  {
   "cell_type": "markdown",
   "id": "c735e6fe",
   "metadata": {},
   "source": [
    "Let's look at monthly total loan amounts:"
   ]
  },
  {
   "cell_type": "code",
   "execution_count": null,
   "id": "e7ecd887",
   "metadata": {},
   "outputs": [],
   "source": [
    "monthly_loans = loans.groupby(loans[\"date\"])[\"loan_amnt\"].sum()\n",
    "monthly_loans"
   ]
  },
  {
   "cell_type": "markdown",
   "id": "07942e8b",
   "metadata": {},
   "source": [
    "Again, to visualise this, we can call the correct plot function. The default of `.plot()` is actually a line chart, so we don't need to specify anything else:"
   ]
  },
  {
   "cell_type": "code",
   "execution_count": null,
   "id": "004582af",
   "metadata": {},
   "outputs": [],
   "source": [
    "_ = monthly_loans.plot()"
   ]
  },
  {
   "cell_type": "markdown",
   "id": "f63c2405",
   "metadata": {},
   "source": [
    "Looks like the plot defaulted to \"scientific notation\" on the y-axis.\n",
    "\n",
    "To change this, we need to dive into the plotting library that `pandas` uses, to gain full control of our plots. We cannot do this if we only use the `.plot()` function in `pandas`.\n",
    "\n",
    "The plotting library `pandas` uses under the hood is called `matplotlib` and the way to use it is to import its `pyplot` submodule.\n",
    "\n",
    "For more information about `matplotlib` and the different ways to use this, you can refer to this excellent article: https://pbpython.com/effective-matplotlib.html"
   ]
  },
  {
   "cell_type": "code",
   "execution_count": null,
   "id": "768b659f",
   "metadata": {},
   "outputs": [],
   "source": [
    "import matplotlib.pyplot as plt"
   ]
  },
  {
   "cell_type": "markdown",
   "id": "e2d357a5",
   "metadata": {},
   "source": [
    "You can set global options for all plots, such as the default theme.\n",
    "\n",
    "Themes are called \"styles\" in `matplotlib` and you can use the many different built-in ones or even create your own.\n",
    "\n",
    "Here is the reference page with all available styles: https://matplotlib.org/stable/gallery/style_sheets/style_sheets_reference.html\n",
    "\n",
    "For example, we could set all our plots to mimic the style of the political blog FiveThirtyEight:"
   ]
  },
  {
   "cell_type": "code",
   "execution_count": null,
   "id": "25a736c1",
   "metadata": {},
   "outputs": [],
   "source": [
    "plt.style.use('fivethirtyeight')\n",
    "\n",
    "_ = loans[\"loan_amnt\"].hist()"
   ]
  },
  {
   "cell_type": "markdown",
   "id": "c276acbc",
   "metadata": {},
   "source": [
    "And we can change it back"
   ]
  },
  {
   "cell_type": "code",
   "execution_count": null,
   "id": "f92a88b5",
   "metadata": {},
   "outputs": [],
   "source": [
    "plt.style.use('default')\n",
    "\n",
    "_ = loans[\"loan_amnt\"].hist()"
   ]
  },
  {
   "cell_type": "markdown",
   "id": "b1671ec4",
   "metadata": {},
   "source": [
    "The real power of using `matplotlib` directly is that we can fully control all aspects of a chart.\n",
    "\n",
    "In `matplotlib`, a **figure** is the entire chart area, and each set of axes inside it are an **axis**.\n",
    "\n",
    "In this example, we have **one** figure and **seven** axes."
   ]
  },
  {
   "cell_type": "code",
   "execution_count": null,
   "id": "9167b40e",
   "metadata": {},
   "outputs": [],
   "source": [
    "_ = loans.hist(column=\"loan_amnt\", by=\"grade\", figsize=(8, 8))"
   ]
  },
  {
   "cell_type": "markdown",
   "id": "6b94120b",
   "metadata": {},
   "source": [
    "To gain full control, we need to *first* create a blank figure and axis (or multiple axes), and then tell the `pandas` plot function to use our figure and axis/axes rather than create its own."
   ]
  },
  {
   "cell_type": "code",
   "execution_count": null,
   "id": "d724d571",
   "metadata": {},
   "outputs": [],
   "source": [
    "fig, axis = plt.subplots(figsize=(6, 6))\n",
    "\n",
    "# tell the plot function what Axis object to use\n",
    "monthly_loans.plot(ax=axis)\n",
    "\n",
    "# one way to remove scientific notation\n",
    "axis.ticklabel_format(axis=\"y\", style=\"plain\")\n",
    "\n",
    "plt.show()"
   ]
  },
  {
   "cell_type": "markdown",
   "id": "3dcf9770",
   "metadata": {},
   "source": [
    "These are the Figure and Axis objects we can control:"
   ]
  },
  {
   "cell_type": "code",
   "execution_count": null,
   "id": "f9ddaf13",
   "metadata": {},
   "outputs": [],
   "source": [
    "print(type(fig), type(axis))"
   ]
  },
  {
   "cell_type": "markdown",
   "id": "35d18d6f",
   "metadata": {},
   "source": [
    "Let's see what else we can do now we have our figure and axis:"
   ]
  },
  {
   "cell_type": "code",
   "execution_count": null,
   "id": "779f7547",
   "metadata": {},
   "outputs": [],
   "source": [
    "fig, axis = plt.subplots(figsize=(6, 6))\n",
    "\n",
    "loans[\"loan_amnt\"].hist(ax=axis)\n",
    "\n",
    "# now we have full control of the figure and axis and can set all the options!\n",
    "\n",
    "# you can set options individually\n",
    "axis.set_facecolor(\"pink\")\n",
    "\n",
    "# or all at once!\n",
    "axis.set(\n",
    "    title=\"Distribution of loan amount\",\n",
    "    xlabel=\"Loan amount\",\n",
    "    ylabel=\"Frequency\"\n",
    ")\n",
    "\n",
    "# .show() is not necessary in Jupyter, but it is outside of it\n",
    "# and it suppresses the text output\n",
    "plt.show()"
   ]
  },
  {
   "cell_type": "markdown",
   "id": "7d8d0ab5",
   "metadata": {},
   "source": [
    "Another trick is to create multiple axes (which gives you either a list, or a 2D array of axes)"
   ]
  },
  {
   "cell_type": "code",
   "execution_count": null,
   "id": "c8ed911b",
   "metadata": {},
   "outputs": [],
   "source": [
    "fig, axes = plt.subplots(1, 2, figsize=(12, 4))\n",
    "\n",
    "# axes is now a list!\n",
    "loans[\"loan_amnt\"].hist(ax=axes[0])\n",
    "\n",
    "# or all at once!\n",
    "axes[0].set(\n",
    "    title=\"Distribution of loan amount\",\n",
    "    xlabel=\"Loan amount\",\n",
    "    ylabel=\"Frequency\"\n",
    ")\n",
    "\n",
    "loans.boxplot(column=\"int_rate\", vert=False, ax=axes[1])\n",
    "\n",
    "axes[1].set(\n",
    "    title=\"Distribution of interest rate\",\n",
    "    xlabel=\"Interest rate (%)\",\n",
    "    ylabel=None\n",
    ")\n",
    "\n",
    "# remove the \"tick\" label from the box plot\n",
    "axes[1].tick_params(axis=\"y\", labelleft=False)\n",
    "\n",
    "# .show() is not necessary in Jupyter, but it is outside of it\n",
    "# and it suppresses the text output\n",
    "plt.show()"
   ]
  },
  {
   "cell_type": "markdown",
   "id": "59246202",
   "metadata": {},
   "source": [
    "<h1 style=\"color: #fcd805\">Exercise: line charts</h1>\n",
    "\n",
    "Back to our Kickstarter data.\n",
    "\n",
    "1. Convert the `launched` column to be a date type."
   ]
  },
  {
   "cell_type": "code",
   "execution_count": null,
   "id": "eea77fe2",
   "metadata": {},
   "outputs": [],
   "source": []
  },
  {
   "cell_type": "markdown",
   "id": "f1fe7219",
   "metadata": {},
   "source": [
    "2. Calculate the *number of projects* per day using the `launched` column.\n",
    "\n",
    "_Tip: if a datetime column has a time component, you can isolate just the date using `.dt.date`_"
   ]
  },
  {
   "cell_type": "code",
   "execution_count": null,
   "id": "9f0afa68",
   "metadata": {},
   "outputs": [],
   "source": []
  },
  {
   "cell_type": "markdown",
   "id": "e94ca274",
   "metadata": {},
   "source": [
    "3. Visualise the number of projects per day as a line chart.\n",
    "\n",
    "Use `matplotlib` to create a figure and axis object and try lots of options to make your chart look unique!"
   ]
  },
  {
   "cell_type": "code",
   "execution_count": null,
   "id": "b7171ef7",
   "metadata": {},
   "outputs": [],
   "source": []
  },
  {
   "cell_type": "markdown",
   "id": "94f57fb5",
   "metadata": {},
   "source": [
    "### Other visualisation options\n",
    "\n",
    "There are many other visualisation libraries in Python!\n",
    "\n",
    "One popular complement to `matplotlib` is `seaborn` (https://seaborn.pydata.org). It has lots of interesting plot types and is fully compatible with `matplotlib`.\n",
    "\n",
    "One thing that's easier in `seaborn` is to colour objects in the visualisation based on a column, such as colouring the points in a scatter plot based on a category:"
   ]
  },
  {
   "cell_type": "code",
   "execution_count": null,
   "id": "b8e74651",
   "metadata": {},
   "outputs": [],
   "source": [
    "import seaborn as sns\n",
    "\n",
    "fig, axis = plt.subplots(figsize=(10, 5))\n",
    "\n",
    "sns.scatterplot(data=loans[loans[\"annual_inc\"] < 500_000],\n",
    "                x=\"annual_inc\",\n",
    "                y=\"loan_amnt\",\n",
    "                hue=\"term\",\n",
    "                alpha=0.3,\n",
    "                ax=axis)\n",
    "\n",
    "axis.set(\n",
    "    title=\"Does the relationship between income and loan amount vary across the length of the loan term?\",\n",
    "    xlabel=\"Annual income ($)\",\n",
    "    ylabel=\"Loan amount ($)\"\n",
    ")\n",
    "\n",
    "plt.show()"
   ]
  },
  {
   "cell_type": "markdown",
   "id": "0f6df5e9",
   "metadata": {},
   "source": [
    "Another useful `seaborn` visualisation is the heatmap. This colours any data table based on its values.\n",
    "\n",
    "If you want to pick the right colour range (called a colormap) this is the documentation: https://matplotlib.org/stable/users/explain/colors/colormaps.html"
   ]
  },
  {
   "cell_type": "code",
   "execution_count": null,
   "id": "8dc8d39e",
   "metadata": {},
   "outputs": [],
   "source": [
    "fig, axis = plt.subplots(figsize=(5, 5))\n",
    "\n",
    "sns.heatmap(\n",
    "    data=loans.corr(numeric_only=True),\n",
    "    vmin=-1,\n",
    "    vmax=1,\n",
    "    square=True,\n",
    "    cmap=\"Blues\",\n",
    "    ax=axis\n",
    ")\n",
    "\n",
    "axis.set(\n",
    "    title=\"Correlation matrix for the loans data\"\n",
    ")\n",
    "\n",
    "plt.show()"
   ]
  },
  {
   "cell_type": "markdown",
   "id": "629bfc89",
   "metadata": {},
   "source": [
    "Other options for visualisation include:\n",
    "\n",
    "- Plotnine (if you are an R user familiar with ggplot): https://plotnine.readthedocs.io\n",
    "- Plotly (for interactive visualisations): https://plotly.com/python/\n",
    "- Altair (https://altair-viz.github.io/)"
   ]
  }
 ],
 "metadata": {
  "kernelspec": {
   "display_name": "Python 3 (ipykernel)",
   "language": "python",
   "name": "python3"
  },
  "language_info": {
   "codemirror_mode": {
    "name": "ipython",
    "version": 3
   },
   "file_extension": ".py",
   "mimetype": "text/x-python",
   "name": "python",
   "nbconvert_exporter": "python",
   "pygments_lexer": "ipython3",
   "version": "3.11.3"
  }
 },
 "nbformat": 4,
 "nbformat_minor": 5
}
