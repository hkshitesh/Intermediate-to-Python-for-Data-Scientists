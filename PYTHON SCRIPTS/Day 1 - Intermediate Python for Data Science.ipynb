{
 "cells": [
  {
   "cell_type": "markdown",
   "id": "dbc27e68-79b9-4f7b-9e7a-842f8ae85643",
   "metadata": {},
   "source": [
    "# Introduction to Jupyter\n",
    "\n",
    "This is a Jupyter notebook. Notebooks are an environment to explore code, but also document your thought process.\n",
    "\n",
    "Fundamentally, a notebook is a collection of cells.\n",
    "\n",
    "Cells can contain code or text. Not just plain text, something called Markdown, which lets you add basic formatting. For example, to add a heading to a Markdown cell, use the # character, like this:\n",
    "\n",
    "`# This is a heading` produces:\n",
    "\n",
    "# This is a heading\n",
    "\n",
    "This is not.\n",
    "\n",
    "\n",
    "---\n",
    "\n",
    "Now let's see some code. Jupyter notebooks aren't specific to Python and can be used for other programming languages, but for now we'll assume that \"code\" means Python.\n",
    "\n",
    "We can run the code below by clicking the Run button or pressing `Ctrl+Enter` (or `Shift+Enter` which then moves to the cell below)."
   ]
  },
  {
   "cell_type": "code",
   "execution_count": null,
   "id": "a27009a3-ca82-4134-9891-3d56c1c80718",
   "metadata": {},
   "outputs": [],
   "source": [
    "print(\"Hello world!\")"
   ]
  },
  {
   "cell_type": "markdown",
   "id": "1ae79e37-1f33-4956-8dd6-1fe86fbe9c64",
   "metadata": {},
   "source": [
    "---\n",
    "\n",
    "# Introduction to `pandas`\n",
    "\n",
    "`pandas` is one of the most important data science libraries in Python. It is used for:\n",
    "\n",
    "- reading in and joining data from multiple sources\n",
    "- exploring a dataset\n",
    "- manipulating and reshaping data\n",
    "- summary descriptive statistics\n",
    "- visualisation (with the help of other libraries)\n",
    "\n",
    "One of the most important things `pandas` introduces is new data types to work with. These are the `DataFrame` and the `Series`.\n",
    "\n",
    "Before we can look at them, let's read in some data."
   ]
  },
  {
   "cell_type": "code",
   "execution_count": null,
   "id": "9d2b1bc8",
   "metadata": {},
   "outputs": [],
   "source": [
    "import pandas as pd"
   ]
  },
  {
   "cell_type": "code",
   "execution_count": null,
   "id": "72fedd08",
   "metadata": {},
   "outputs": [],
   "source": [
    "loans = pd.read_csv(\"./data/loans.csv\")"
   ]
  },
  {
   "cell_type": "markdown",
   "id": "f7a09038",
   "metadata": {},
   "source": [
    "When you read in data, it's a `DataFrame`. Think of it as a 2-D table."
   ]
  },
  {
   "cell_type": "code",
   "execution_count": null,
   "id": "5ce867c4",
   "metadata": {},
   "outputs": [],
   "source": [
    "type(loans)"
   ]
  },
  {
   "cell_type": "markdown",
   "id": "f41eab6e",
   "metadata": {},
   "source": [
    "We can check the dimensions of our data:"
   ]
  },
  {
   "cell_type": "code",
   "execution_count": null,
   "id": "00723b4f",
   "metadata": {},
   "outputs": [],
   "source": [
    "loans.shape # (rows, columns) tuple"
   ]
  },
  {
   "cell_type": "markdown",
   "id": "08ff8781",
   "metadata": {},
   "source": [
    "Or just get the length (number of rows):"
   ]
  },
  {
   "cell_type": "code",
   "execution_count": null,
   "id": "6928ed51",
   "metadata": {},
   "outputs": [],
   "source": [
    "len(loans)"
   ]
  },
  {
   "cell_type": "markdown",
   "id": "74fc27fc",
   "metadata": {},
   "source": [
    "We can also inspect the column names:"
   ]
  },
  {
   "cell_type": "code",
   "execution_count": null,
   "id": "066eaefc",
   "metadata": {},
   "outputs": [],
   "source": [
    "loans.columns"
   ]
  },
  {
   "cell_type": "markdown",
   "id": "5bd6dbd1",
   "metadata": {},
   "source": [
    "We can look at our data here in the Jupyter notebook:"
   ]
  },
  {
   "cell_type": "code",
   "execution_count": null,
   "id": "c098a788",
   "metadata": {},
   "outputs": [],
   "source": [
    "loans.head()"
   ]
  },
  {
   "cell_type": "markdown",
   "id": "8bd83bcf",
   "metadata": {},
   "source": [
    "`pandas` automatically assigns row numbers to our data, called the index:"
   ]
  },
  {
   "cell_type": "code",
   "execution_count": null,
   "id": "824cc674",
   "metadata": {},
   "outputs": [],
   "source": [
    "loans.index"
   ]
  },
  {
   "cell_type": "markdown",
   "id": "b34a2b11",
   "metadata": {},
   "source": [
    "The index of a `DataFrame` can be anything as long as the values are unique.\n",
    "\n",
    "Looks like our columns are a mix of numeric and non-numeric types. We can verify this by looking at the data types of the columns:"
   ]
  },
  {
   "cell_type": "code",
   "execution_count": null,
   "id": "82778d4a",
   "metadata": {},
   "outputs": [],
   "source": [
    "loans.dtypes"
   ]
  },
  {
   "cell_type": "markdown",
   "id": "3faf9617",
   "metadata": {},
   "source": [
    "Anything that isn't a number, date, or boolean is an `object`. In `pandas` version 2, there is a dedicated string type for text, and categorical data also has its own type (even if it's text, this is a more targeted data type).\n",
    "\n",
    "Before we start changing our columns' data types, let's see what a single column looks like.\n",
    "\n",
    "The syntax for accessing a column in a `DataFrame` is similar to accessing an item in a dictionary:"
   ]
  },
  {
   "cell_type": "code",
   "execution_count": null,
   "id": "6ba49e62",
   "metadata": {},
   "outputs": [],
   "source": [
    "loans[\"loan_amnt\"]"
   ]
  },
  {
   "cell_type": "markdown",
   "id": "58195706",
   "metadata": {},
   "source": [
    "A single column (and a single row) in `pandas` has the `Series` data type:"
   ]
  },
  {
   "cell_type": "code",
   "execution_count": null,
   "id": "2979a4f5",
   "metadata": {},
   "outputs": [],
   "source": [
    "type(loans[\"loan_amnt\"])"
   ]
  },
  {
   "cell_type": "markdown",
   "id": "7a59422a",
   "metadata": {},
   "source": [
    "You can select multiple columns by providing a list of column names:"
   ]
  },
  {
   "cell_type": "code",
   "execution_count": null,
   "id": "16205cf0",
   "metadata": {},
   "outputs": [],
   "source": [
    "loans[[\"id\", \"loan_amnt\"]]"
   ]
  },
  {
   "cell_type": "code",
   "execution_count": null,
   "id": "c2411bb4",
   "metadata": {},
   "outputs": [],
   "source": [
    "type(loans[[\"id\", \"loan_amnt\"]])"
   ]
  },
  {
   "cell_type": "markdown",
   "id": "4b1a2cd9",
   "metadata": {},
   "source": [
    "Remember: single columns/rows are `Series`, anything that's 2-D is a `DataFrame`.\n",
    "\n",
    "Technically you can select a single column as a `DataFrame` by providing it in a list. This is useful for machine learning models that *need* a `DataFrame` as an input, even if it's a single column."
   ]
  },
  {
   "cell_type": "code",
   "execution_count": null,
   "id": "1ec1069d",
   "metadata": {},
   "outputs": [],
   "source": [
    "loans[[\"loan_amnt\"]]"
   ]
  },
  {
   "cell_type": "code",
   "execution_count": null,
   "id": "7b3c8ab1",
   "metadata": {},
   "outputs": [],
   "source": [
    "type(loans[[\"loan_amnt\"]])"
   ]
  },
  {
   "cell_type": "markdown",
   "id": "809659a2",
   "metadata": {},
   "source": [
    "One way to change a column's data type is to use `astype`."
   ]
  },
  {
   "cell_type": "code",
   "execution_count": null,
   "id": "56f52681",
   "metadata": {},
   "outputs": [],
   "source": [
    "loans[\"loan_amnt\"].astype(int)"
   ]
  },
  {
   "cell_type": "markdown",
   "id": "3a7b7e1d",
   "metadata": {},
   "source": [
    "If we look at the column again..."
   ]
  },
  {
   "cell_type": "code",
   "execution_count": null,
   "id": "614c93fc",
   "metadata": {},
   "outputs": [],
   "source": [
    "loans[\"loan_amnt\"].dtype"
   ]
  },
  {
   "cell_type": "markdown",
   "id": "a2b97bc1",
   "metadata": {},
   "source": [
    "It hasn't changed!\n",
    "\n",
    "**Important**: in `pandas` most methods return *copies* of the data and do not change it.\n",
    "\n",
    "You need to be *explicit* when you want your source data to change:"
   ]
  },
  {
   "cell_type": "code",
   "execution_count": null,
   "id": "f08cf5fb",
   "metadata": {},
   "outputs": [],
   "source": [
    "loans[\"loan_amnt\"] = loans[\"loan_amnt\"].astype(int)\n",
    "\n",
    "loans[\"loan_amnt\"].dtype"
   ]
  },
  {
   "cell_type": "markdown",
   "id": "851d8fb2",
   "metadata": {},
   "source": [
    "## Column transformations\n",
    "\n",
    "A brief aside - why use `pandas` for data analysis?\n",
    "\n",
    "One big reason is speed. `pandas` encourages **vectorised** operations, which means performing an operation on *all values in a column of data at once*.\n",
    "\n",
    "Let's compare two approaches:"
   ]
  },
  {
   "cell_type": "code",
   "execution_count": null,
   "id": "700c6fb7",
   "metadata": {},
   "outputs": [],
   "source": [
    "%%timeit\n",
    "\n",
    "a = list(range(100_000))\n",
    "\n",
    "new_list = []\n",
    "\n",
    "for num in a:\n",
    "    new_list.append(num**2)"
   ]
  },
  {
   "cell_type": "code",
   "execution_count": null,
   "id": "e8b64262",
   "metadata": {},
   "outputs": [],
   "source": [
    "%%timeit\n",
    "\n",
    "numbers = pd.Series(range(100_000))\n",
    "\n",
    "# apply the operation to the entire Series at once\n",
    "squares = numbers ** 2"
   ]
  },
  {
   "cell_type": "markdown",
   "id": "ec365d23",
   "metadata": {},
   "source": [
    "The biggest change to working with Python and working with `pandas` is getting rid of loops and working in a vectorised way.\n",
    "\n",
    "#### Column operations with `pandas`\n",
    "\n",
    "Let's calculate the loan installments as a % of the total loan amount:"
   ]
  },
  {
   "cell_type": "code",
   "execution_count": null,
   "id": "acbd2d9b",
   "metadata": {},
   "outputs": [],
   "source": [
    "loans[\"installment\"] / loans[\"loan_amnt\"]"
   ]
  },
  {
   "cell_type": "markdown",
   "id": "54a53dcf",
   "metadata": {},
   "source": [
    "Column operations return a `Series`, which we can assign to new column names to create new columns:"
   ]
  },
  {
   "cell_type": "code",
   "execution_count": null,
   "id": "4ea01164",
   "metadata": {},
   "outputs": [],
   "source": [
    "loans[\"installment_pct\"] = loans[\"installment\"] / loans[\"loan_amnt\"]\n",
    "\n",
    "loans.head()"
   ]
  },
  {
   "cell_type": "markdown",
   "id": "e2403f16",
   "metadata": {},
   "source": [
    "You can also delete a column you don't like:"
   ]
  },
  {
   "cell_type": "code",
   "execution_count": null,
   "id": "f755eae7",
   "metadata": {},
   "outputs": [],
   "source": [
    "loans.drop(columns=[\"installment_pct\"])"
   ]
  },
  {
   "cell_type": "code",
   "execution_count": null,
   "id": "22fa1eab",
   "metadata": {},
   "outputs": [],
   "source": [
    "loans.head()"
   ]
  },
  {
   "cell_type": "markdown",
   "id": "135534da",
   "metadata": {},
   "source": [
    "Oh oh, it's still there!\n",
    "\n",
    "Again, that's because `.drop()` doesn't modify the source data.\n",
    "\n",
    "We can just overwrite our `DataFrame`:"
   ]
  },
  {
   "cell_type": "code",
   "execution_count": null,
   "id": "2b9aa73f",
   "metadata": {},
   "outputs": [],
   "source": [
    "loans = loans.drop(columns=[\"installment_pct\"])\n",
    "loans.head()"
   ]
  },
  {
   "cell_type": "markdown",
   "id": "88f36eb6",
   "metadata": {},
   "source": [
    "When our data is the right type, you can perform type-specific operations:"
   ]
  },
  {
   "cell_type": "code",
   "execution_count": null,
   "id": "23717dbb",
   "metadata": {},
   "outputs": [],
   "source": [
    "loans[\"emp_title\"] = loans[\"emp_title\"].astype(\"string\")"
   ]
  },
  {
   "cell_type": "code",
   "execution_count": null,
   "id": "c2db9921",
   "metadata": {},
   "outputs": [],
   "source": [
    "loans[\"emp_title\"].str.lower()"
   ]
  },
  {
   "cell_type": "code",
   "execution_count": null,
   "id": "31a04979",
   "metadata": {},
   "outputs": [],
   "source": [
    "loans[\"emp_title\"].str.lower().str.replace(\"manager\", \"mgr\")"
   ]
  },
  {
   "cell_type": "markdown",
   "id": "40327205",
   "metadata": {},
   "source": [
    "We can also slice strings in a `pandas` column the same way as Python strings\n",
    "\n",
    "(relevant `pandas` documentation: https://pandas.pydata.org/docs/user_guide/text.html)"
   ]
  },
  {
   "cell_type": "code",
   "execution_count": null,
   "id": "4ee14a54",
   "metadata": {},
   "outputs": [],
   "source": [
    "loans[\"emp_title\"].str[:5]"
   ]
  },
  {
   "cell_type": "markdown",
   "id": "bbed01c4",
   "metadata": {},
   "source": [
    "For categorical data, such as the purpose of a loan, we can look at the unique values in a column:"
   ]
  },
  {
   "cell_type": "code",
   "execution_count": null,
   "id": "add3c9ce",
   "metadata": {},
   "outputs": [],
   "source": [
    "loans[\"purpose\"].unique()"
   ]
  },
  {
   "cell_type": "markdown",
   "id": "bec16644",
   "metadata": {},
   "source": [
    "And we can count the number of unique values (either by counting the list above, or using `.nunique`:"
   ]
  },
  {
   "cell_type": "code",
   "execution_count": null,
   "id": "a98ded5f",
   "metadata": {},
   "outputs": [],
   "source": [
    "loans[\"purpose\"].nunique()"
   ]
  },
  {
   "cell_type": "markdown",
   "id": "e2dbbce9",
   "metadata": {},
   "source": [
    "If you ever want to export the altered version of your data, you can do that!"
   ]
  },
  {
   "cell_type": "code",
   "execution_count": null,
   "id": "7f9efac7",
   "metadata": {},
   "outputs": [],
   "source": [
    "# set index=False if you don't want to export the index as a separate column\n",
    "loans.to_csv(\"loans_new.csv\", index=False)"
   ]
  },
  {
   "cell_type": "markdown",
   "id": "9cee1a54",
   "metadata": {},
   "source": [
    "## Missing data\n",
    "\n",
    "Typically we look at the number of missing records for each column:"
   ]
  },
  {
   "cell_type": "code",
   "execution_count": null,
   "id": "26a827be",
   "metadata": {},
   "outputs": [],
   "source": [
    "loans.isnull().sum()"
   ]
  },
  {
   "cell_type": "markdown",
   "id": "f65be5a8",
   "metadata": {},
   "source": [
    "You can also get that as a percentage:"
   ]
  },
  {
   "cell_type": "code",
   "execution_count": null,
   "id": "9f2763b1",
   "metadata": {},
   "outputs": [],
   "source": [
    "loans.isnull().sum() / len(loans)"
   ]
  },
  {
   "cell_type": "markdown",
   "id": "af4bc5f0",
   "metadata": {},
   "source": [
    "We have a couple of options, we can:\n",
    "\n",
    "- fill in the missing values with a placeholder like \"unknown\"\n",
    "- drop rows with missing values"
   ]
  },
  {
   "cell_type": "code",
   "execution_count": null,
   "id": "d6af30e9",
   "metadata": {},
   "outputs": [],
   "source": [
    "# .fillna() also doesn't change the underlying data!\n",
    "loans[\"emp_title\"] = loans[\"emp_title\"].fillna(\"Unknown\")"
   ]
  },
  {
   "cell_type": "markdown",
   "id": "f8f509cb",
   "metadata": {},
   "source": [
    "We can specify which columns to take into account when dropping data, and whether *all* of those columns need to be missing for us to drop a row, or *any* of them."
   ]
  },
  {
   "cell_type": "code",
   "execution_count": null,
   "id": "4f66f2d0",
   "metadata": {},
   "outputs": [],
   "source": [
    "loans.dropna(subset=[\"emp_title\", \"emp_length\"], how=\"all\")"
   ]
  },
  {
   "cell_type": "markdown",
   "id": "c19b4d9e-8942-4214-bf7f-abef75c53331",
   "metadata": {},
   "source": [
    "<h1 style=\"color: #fcd805\">Exercise: Exploratory Data Analysis with pandas</h1>\n",
    "\n",
    "For the `pandas` exercises, you will gradually explore a new dataset of Kickstarter projects.\n",
    "\n",
    "Kickstarter is a site that lets you crowdfund your project ideas. The dataset shows information about such projects including whether they succeeded or failed.\n",
    "\n",
    "1. Read the file `kickstarter.csv.gz` from the `data` folder into a `pandas` `DataFrame` and inspect the data with the `.head` method.\n",
    "\n",
    "Note: the `.gz` ending indicates this is a *zipped* CSV file. This greatly reduces the file size without losing any data, and the file can be read in exactly like a CSV file (no need to do anything about the fact that it's zipped, `pandas` will handle it)."
   ]
  },
  {
   "cell_type": "code",
   "execution_count": null,
   "id": "78b43ef5",
   "metadata": {},
   "outputs": [],
   "source": []
  },
  {
   "cell_type": "markdown",
   "id": "496a9d43",
   "metadata": {},
   "source": [
    "2. How many rows and columns are there?"
   ]
  },
  {
   "cell_type": "code",
   "execution_count": null,
   "id": "ea000f78",
   "metadata": {},
   "outputs": [],
   "source": []
  },
  {
   "cell_type": "markdown",
   "id": "2e7896ac",
   "metadata": {},
   "source": [
    "3. Check the data type of each column. Do any of them look incorrect?"
   ]
  },
  {
   "cell_type": "code",
   "execution_count": null,
   "id": "e3e4d22f",
   "metadata": {},
   "outputs": [],
   "source": []
  },
  {
   "cell_type": "markdown",
   "id": "47abb3a0",
   "metadata": {},
   "source": [
    "4. Are there any missing values? If so, what should be done about them?"
   ]
  },
  {
   "cell_type": "code",
   "execution_count": null,
   "id": "28470983",
   "metadata": {},
   "outputs": [],
   "source": []
  },
  {
   "cell_type": "markdown",
   "id": "8ee02af7",
   "metadata": {},
   "source": [
    "5. Create a new column to calculate the percentage of the goal that was achieved. This should be the amount pledged as a percentage of the goal."
   ]
  },
  {
   "cell_type": "code",
   "execution_count": null,
   "id": "29aee063",
   "metadata": {},
   "outputs": [],
   "source": []
  },
  {
   "cell_type": "markdown",
   "id": "9fd4d798",
   "metadata": {},
   "source": [
    "6. Drop the `usd pledged` column as it has some incorrect values in it."
   ]
  },
  {
   "cell_type": "code",
   "execution_count": null,
   "id": "86157903",
   "metadata": {},
   "outputs": [],
   "source": []
  },
  {
   "cell_type": "markdown",
   "id": "7d33d53f",
   "metadata": {},
   "source": [
    "7. Convert the `name` column to the `string` type."
   ]
  },
  {
   "cell_type": "code",
   "execution_count": null,
   "id": "a26d73c2",
   "metadata": {},
   "outputs": [],
   "source": []
  },
  {
   "cell_type": "markdown",
   "id": "ae34b1e5",
   "metadata": {},
   "source": [
    "8. How many main categories are there in the data, and what are they?"
   ]
  },
  {
   "cell_type": "code",
   "execution_count": null,
   "id": "3307d27d",
   "metadata": {},
   "outputs": [],
   "source": []
  },
  {
   "cell_type": "markdown",
   "id": "82e62f84",
   "metadata": {},
   "source": [
    "# Filtering\n",
    "\n",
    "In `pandas` we can filter a dataset similarly to slicing a list, using square brackets `[]`. Within the square brackets should be a logical condition.\n",
    "\n",
    "In `pandas`, this should be a `Series` of boolean values:"
   ]
  },
  {
   "cell_type": "code",
   "execution_count": null,
   "id": "ac729f21",
   "metadata": {},
   "outputs": [],
   "source": [
    "loan_filter = loans[\"loan_amnt\"] > 30_000\n",
    "\n",
    "loan_filter"
   ]
  },
  {
   "cell_type": "markdown",
   "id": "ece4836f",
   "metadata": {},
   "source": [
    "Which we can then apply to the `DataFrame`:"
   ]
  },
  {
   "cell_type": "code",
   "execution_count": null,
   "id": "ab3ae738",
   "metadata": {},
   "outputs": [],
   "source": [
    "loans[loan_filter].head()"
   ]
  },
  {
   "cell_type": "markdown",
   "id": "8a352410",
   "metadata": {},
   "source": [
    "Or you can do it in one go:"
   ]
  },
  {
   "cell_type": "code",
   "execution_count": null,
   "id": "8d018e43",
   "metadata": {},
   "outputs": [],
   "source": [
    "loans[loans[\"loan_amnt\"] > 30_000].head()"
   ]
  },
  {
   "cell_type": "markdown",
   "id": "55be9294",
   "metadata": {},
   "source": [
    "Or you can use `.query()` for a more SQL-like filtering syntax:"
   ]
  },
  {
   "cell_type": "code",
   "execution_count": null,
   "id": "8cac661b",
   "metadata": {},
   "outputs": [],
   "source": [
    "loans.query(\"loan_amnt > 30000\").head()"
   ]
  },
  {
   "cell_type": "markdown",
   "id": "22764dce",
   "metadata": {},
   "source": [
    "More documentation on query and its options and limitations: https://pandas.pydata.org/docs/reference/api/pandas.DataFrame.query.html\n",
    "\n",
    "We can combine logical conditions too\n",
    "\n",
    "- unlike in Python, we don't use `and` and `or`, we use `&` and `|`:\n",
    "- each condition should be in its own brackets"
   ]
  },
  {
   "cell_type": "code",
   "execution_count": null,
   "id": "40658c48",
   "metadata": {},
   "outputs": [],
   "source": [
    "loans[(loans[\"loan_amnt\"] > 30_000) & (loans[\"int_rate\"] > 15)].head()"
   ]
  },
  {
   "cell_type": "code",
   "execution_count": null,
   "id": "44e322b9",
   "metadata": {},
   "outputs": [],
   "source": [
    "loans[(loans[\"loan_amnt\"] > 30_000) | (loans[\"int_rate\"] > 15)].head()"
   ]
  },
  {
   "cell_type": "markdown",
   "id": "a70cc2ce",
   "metadata": {},
   "source": [
    "We can also do type-specific filtering:"
   ]
  },
  {
   "cell_type": "code",
   "execution_count": null,
   "id": "22da8537",
   "metadata": {},
   "outputs": [],
   "source": [
    "loans[\"emp_title\"].str.lower().str.contains(\"teacher\")"
   ]
  },
  {
   "cell_type": "code",
   "execution_count": null,
   "id": "4619a6d8",
   "metadata": {},
   "outputs": [],
   "source": [
    "teachers = loans[loans[\"emp_title\"].str.lower().str.contains(\"teacher\")]\n",
    "teachers.head(10)"
   ]
  },
  {
   "cell_type": "markdown",
   "id": "5b737be9",
   "metadata": {},
   "source": [
    "Any logical filters work, for example finding missing data:"
   ]
  },
  {
   "cell_type": "code",
   "execution_count": null,
   "id": "75dce303",
   "metadata": {},
   "outputs": [],
   "source": [
    "loans[loans[\"emp_length\"].isnull()].head()"
   ]
  },
  {
   "cell_type": "markdown",
   "id": "367e91ec",
   "metadata": {},
   "source": [
    "### `.loc` and `.iloc`\n",
    "\n",
    "You can also do 2-D filtering (filtering rows and columns at the same time) using `.loc` or `.iloc`.\n",
    "\n",
    "`.iloc` uses *integer indices*:"
   ]
  },
  {
   "cell_type": "code",
   "execution_count": null,
   "id": "87c12ec0",
   "metadata": {},
   "outputs": [],
   "source": [
    "# first row\n",
    "loans.iloc[0]"
   ]
  },
  {
   "cell_type": "markdown",
   "id": "c54cad0e",
   "metadata": {},
   "source": [
    "We can use slice notation to get multiple rows:"
   ]
  },
  {
   "cell_type": "code",
   "execution_count": null,
   "id": "bc8ee232",
   "metadata": {},
   "outputs": [],
   "source": [
    "loans.iloc[0:5]"
   ]
  },
  {
   "cell_type": "markdown",
   "id": "ce26f2b3",
   "metadata": {},
   "source": [
    "And get 1 or more columns too:"
   ]
  },
  {
   "cell_type": "code",
   "execution_count": null,
   "id": "0dacc711",
   "metadata": {},
   "outputs": [],
   "source": [
    "loans.iloc[0:5, 0]"
   ]
  },
  {
   "cell_type": "markdown",
   "id": "869706a3",
   "metadata": {},
   "source": [
    "In contrast, `.loc` filters on the *actual* index (whether it's an integer or not).\n",
    "\n",
    "So `.iloc[0]` always means the first row, whereas `.loc[0]` means the row with index (that's `pandas` index, not just list index) of 0."
   ]
  },
  {
   "cell_type": "code",
   "execution_count": null,
   "id": "7111b993",
   "metadata": {},
   "outputs": [],
   "source": [
    "loans.loc[0]"
   ]
  },
  {
   "cell_type": "markdown",
   "id": "cfd7fa10",
   "metadata": {},
   "source": [
    "Column filtering with `.loc` is done by *name*:"
   ]
  },
  {
   "cell_type": "code",
   "execution_count": null,
   "id": "3c3f0e73",
   "metadata": {},
   "outputs": [],
   "source": [
    "loans.loc[0:5, \"loan_amnt\"]"
   ]
  },
  {
   "cell_type": "markdown",
   "id": "854723fb",
   "metadata": {},
   "source": [
    "And we can slice column names!"
   ]
  },
  {
   "cell_type": "code",
   "execution_count": null,
   "id": "693ce374",
   "metadata": {},
   "outputs": [],
   "source": [
    "loans.loc[0:5, \"loan_amnt\":\"int_rate\"]"
   ]
  },
  {
   "cell_type": "markdown",
   "id": "4acc6c87",
   "metadata": {},
   "source": [
    "Finally, `.loc` allows boolean filtering:"
   ]
  },
  {
   "cell_type": "code",
   "execution_count": null,
   "id": "cd5e0fc1",
   "metadata": {},
   "outputs": [],
   "source": [
    "loans.loc[loans[\"int_rate\"] < 5.5, \"int_rate\"]"
   ]
  },
  {
   "cell_type": "markdown",
   "id": "061a7300",
   "metadata": {},
   "source": [
    "## Descriptive statistics\n",
    "\n",
    "`pandas` has built-in methods for getting some statistical summaries of our data:"
   ]
  },
  {
   "cell_type": "code",
   "execution_count": null,
   "id": "11b86e0c",
   "metadata": {},
   "outputs": [],
   "source": [
    "loans.describe()"
   ]
  },
  {
   "cell_type": "markdown",
   "id": "b33b1dc5",
   "metadata": {},
   "source": [
    "By default, only numeric values are shown but we can change that:"
   ]
  },
  {
   "cell_type": "code",
   "execution_count": null,
   "id": "94d1b611",
   "metadata": {},
   "outputs": [],
   "source": [
    "loans.describe(include=\"all\")"
   ]
  },
  {
   "cell_type": "markdown",
   "id": "577c7cae",
   "metadata": {},
   "source": [
    "Individual columns can also be summarised:"
   ]
  },
  {
   "cell_type": "code",
   "execution_count": null,
   "id": "20e68647",
   "metadata": {},
   "outputs": [],
   "source": [
    "loans[\"loan_amnt\"].mean()"
   ]
  },
  {
   "cell_type": "code",
   "execution_count": null,
   "id": "9e618b9c",
   "metadata": {},
   "outputs": [],
   "source": [
    "loans[\"loan_amnt\"].median()"
   ]
  },
  {
   "cell_type": "markdown",
   "id": "063531be",
   "metadata": {},
   "source": [
    "You can also use `.agg` to request multiple summaries:"
   ]
  },
  {
   "cell_type": "code",
   "execution_count": null,
   "id": "9961bd50",
   "metadata": {},
   "outputs": [],
   "source": [
    "loans[\"loan_amnt\"].agg([\"min\", \"max\"])"
   ]
  },
  {
   "cell_type": "markdown",
   "id": "4822f907",
   "metadata": {},
   "source": [
    "<h1 style=\"color: #fcd805\">Exercise: Filtering and Descriptive Statistics</h1>\n",
    "\n",
    "We're going to continue working on the Kickstarter data from the previous exercise.\n",
    "\n",
    "1. How many projects are in the Music category?"
   ]
  },
  {
   "cell_type": "code",
   "execution_count": null,
   "id": "bd1cdeca",
   "metadata": {},
   "outputs": [],
   "source": []
  },
  {
   "cell_type": "markdown",
   "id": "4ee00813",
   "metadata": {},
   "source": [
    "2. How many projects in the Music category *succeeded*?"
   ]
  },
  {
   "cell_type": "code",
   "execution_count": null,
   "id": "68b8c0a5",
   "metadata": {},
   "outputs": [],
   "source": []
  },
  {
   "cell_type": "markdown",
   "id": "babef8be",
   "metadata": {},
   "source": [
    "3. How many projects in the Music category contain the word \"song\"?"
   ]
  },
  {
   "cell_type": "code",
   "execution_count": null,
   "id": "de43a9fc",
   "metadata": {},
   "outputs": [],
   "source": []
  },
  {
   "cell_type": "markdown",
   "id": "9ec70779",
   "metadata": {},
   "source": [
    "4. How many projects are in the Music and Film & Video categories in total?"
   ]
  },
  {
   "cell_type": "code",
   "execution_count": null,
   "id": "97aeda62",
   "metadata": {},
   "outputs": [],
   "source": []
  },
  {
   "cell_type": "markdown",
   "id": "d7c0f65a",
   "metadata": {},
   "source": [
    "5. What are the smallest and biggest goals in the dataset?"
   ]
  },
  {
   "cell_type": "code",
   "execution_count": null,
   "id": "f23ca6f9",
   "metadata": {},
   "outputs": [],
   "source": []
  },
  {
   "cell_type": "markdown",
   "id": "ae243ad8",
   "metadata": {},
   "source": [
    "6. What is the average number of backers a project received?"
   ]
  },
  {
   "cell_type": "code",
   "execution_count": null,
   "id": "27bb30d7",
   "metadata": {},
   "outputs": [],
   "source": []
  },
  {
   "cell_type": "markdown",
   "id": "c217d855",
   "metadata": {},
   "source": [
    "7. What is the average number of backers that *successful* projects received?\n",
    "\n",
    "_Hint: Think about the order of operations of how to answer this. What do you need to do first?_"
   ]
  },
  {
   "cell_type": "code",
   "execution_count": null,
   "id": "a5d999e1",
   "metadata": {},
   "outputs": [],
   "source": []
  },
  {
   "cell_type": "markdown",
   "id": "e5630eae",
   "metadata": {},
   "source": [
    "# Sorting and aggregating\n",
    "\n",
    "We can sort our data:"
   ]
  },
  {
   "cell_type": "code",
   "execution_count": null,
   "id": "53bb3ac1",
   "metadata": {},
   "outputs": [],
   "source": [
    "loans.sort_values(\"grade\").head()"
   ]
  },
  {
   "cell_type": "markdown",
   "id": "d53360f8",
   "metadata": {},
   "source": [
    "We can sort by multiple values:"
   ]
  },
  {
   "cell_type": "code",
   "execution_count": null,
   "id": "49059db3",
   "metadata": {},
   "outputs": [],
   "source": [
    "loans.sort_values([\"grade\", \"sub_grade\"]).head()"
   ]
  },
  {
   "cell_type": "markdown",
   "id": "c55a6b3d",
   "metadata": {},
   "source": [
    "We can change the direction of sorting either for a single column, or different sort orders for multiple columns:"
   ]
  },
  {
   "cell_type": "code",
   "execution_count": null,
   "id": "7d1df898",
   "metadata": {},
   "outputs": [],
   "source": [
    "loans.sort_values(\"grade\", ascending=False).head()"
   ]
  },
  {
   "cell_type": "code",
   "execution_count": null,
   "id": "b02fba1d",
   "metadata": {},
   "outputs": [],
   "source": [
    "loans.sort_values([\"grade\", \"sub_grade\"], ascending=[True, False]).head()"
   ]
  },
  {
   "cell_type": "markdown",
   "id": "6a38b2d2",
   "metadata": {},
   "source": [
    "For categorical data, we can look at the frequencies of the values using `value_counts`"
   ]
  },
  {
   "cell_type": "code",
   "execution_count": null,
   "id": "69abf02c",
   "metadata": {},
   "outputs": [],
   "source": [
    "loans[\"home_ownership\"].value_counts()"
   ]
  },
  {
   "cell_type": "markdown",
   "id": "c106392b",
   "metadata": {},
   "source": [
    "Or as a percentage:"
   ]
  },
  {
   "cell_type": "code",
   "execution_count": null,
   "id": "16c1f630",
   "metadata": {},
   "outputs": [],
   "source": [
    "loans[\"home_ownership\"].value_counts(normalize=True)"
   ]
  },
  {
   "cell_type": "markdown",
   "id": "0cdcec5e",
   "metadata": {},
   "source": [
    "The default for this table is to sort values in descending order, but we can sort by the labels (which is the index):"
   ]
  },
  {
   "cell_type": "code",
   "execution_count": null,
   "id": "642fb605",
   "metadata": {},
   "outputs": [],
   "source": [
    "loans[\"home_ownership\"].value_counts().sort_index()"
   ]
  },
  {
   "cell_type": "markdown",
   "id": "c1c94e04",
   "metadata": {},
   "source": [
    "### Groupby\n",
    "\n",
    "Like in SQL and other data-specific languages, we can use `groupby` to create subsets of our data and aggregate them separately:"
   ]
  },
  {
   "cell_type": "code",
   "execution_count": null,
   "id": "acbd42f7",
   "metadata": {},
   "outputs": [],
   "source": [
    "loans.groupby(\"home_ownership\")"
   ]
  },
  {
   "cell_type": "markdown",
   "id": "236fcfec",
   "metadata": {},
   "source": [
    "That doesn't do anything yet because we haven't chosen how to summarise each group!"
   ]
  },
  {
   "cell_type": "code",
   "execution_count": null,
   "id": "9b741672",
   "metadata": {},
   "outputs": [],
   "source": [
    "loans.groupby(\"home_ownership\")[\"loan_amnt\"].median()"
   ]
  },
  {
   "cell_type": "markdown",
   "id": "9515efb3",
   "metadata": {},
   "source": [
    "The default here is to order by label (index) but we can sort on the values:"
   ]
  },
  {
   "cell_type": "code",
   "execution_count": null,
   "id": "e6473fe8",
   "metadata": {},
   "outputs": [],
   "source": [
    "loans.groupby(\"home_ownership\")[\"loan_amnt\"].median().sort_values(ascending=False)"
   ]
  },
  {
   "cell_type": "markdown",
   "id": "92d50ced",
   "metadata": {},
   "source": [
    "We can provide multiple columns to summarise:"
   ]
  },
  {
   "cell_type": "code",
   "execution_count": null,
   "id": "9e0f3a79",
   "metadata": {},
   "outputs": [],
   "source": [
    "loans.groupby(\"home_ownership\")[[\"loan_amnt\", \"int_rate\"]].median()"
   ]
  },
  {
   "cell_type": "markdown",
   "id": "e42779d2",
   "metadata": {},
   "source": [
    "Or multiple aggregations on a single column:"
   ]
  },
  {
   "cell_type": "code",
   "execution_count": null,
   "id": "31e22cec",
   "metadata": {},
   "outputs": [],
   "source": [
    "loans.groupby(\"home_ownership\")[\"loan_amnt\"].agg([\"min\", \"median\", \"max\"])"
   ]
  },
  {
   "cell_type": "markdown",
   "id": "dbc98f5c",
   "metadata": {},
   "source": [
    "Or multiple aggregations for multiple columns!"
   ]
  },
  {
   "cell_type": "code",
   "execution_count": null,
   "id": "017e4c32",
   "metadata": {},
   "outputs": [],
   "source": [
    "loans.groupby(\"home_ownership\")[[\"loan_amnt\", \"int_rate\"]].agg([\"min\", \"median\", \"max\"])"
   ]
  },
  {
   "cell_type": "markdown",
   "id": "8799a000",
   "metadata": {},
   "source": [
    "<h1 style=\"color: #fcd805\">Exercise: Sorting and Aggregating</h1>\n",
    "\n",
    "Back to the Kickstarter data.\n",
    "\n",
    "1. What is the **total** amount pledged for songs *by category*?\n",
    "\n",
    "You want to end up with a dataset of one line per category, showing the total pledged amount for each category."
   ]
  },
  {
   "cell_type": "code",
   "execution_count": null,
   "id": "79eaf3b1",
   "metadata": {},
   "outputs": [],
   "source": []
  },
  {
   "cell_type": "markdown",
   "id": "66d7ce3c",
   "metadata": {},
   "source": [
    "2. What is the breakdown of the state of projects? That is, how many have failed, succeeded etc.? Calculate the answer both as absolute numbers and percentages."
   ]
  },
  {
   "cell_type": "code",
   "execution_count": null,
   "id": "3f126ec0",
   "metadata": {},
   "outputs": [],
   "source": []
  },
  {
   "cell_type": "markdown",
   "id": "8bc4688e",
   "metadata": {},
   "source": [
    "3. Which category has the highest *average* pledged amount?"
   ]
  },
  {
   "cell_type": "code",
   "execution_count": null,
   "id": "8b6caea3",
   "metadata": {},
   "outputs": [],
   "source": []
  },
  {
   "cell_type": "markdown",
   "id": "3b897cfc",
   "metadata": {},
   "source": [
    "4. Find the most expensive (i.e. highest goal) project in the Photography category."
   ]
  },
  {
   "cell_type": "code",
   "execution_count": null,
   "id": "936be2eb",
   "metadata": {},
   "outputs": [],
   "source": []
  },
  {
   "cell_type": "markdown",
   "id": "f76c5b34",
   "metadata": {},
   "source": [
    "5. Find the project in the Food category with the highest number of backers."
   ]
  },
  {
   "cell_type": "code",
   "execution_count": null,
   "id": "4846bb3f",
   "metadata": {},
   "outputs": [],
   "source": []
  },
  {
   "cell_type": "markdown",
   "id": "f2176647",
   "metadata": {},
   "source": [
    "6. **BONUS** Find the project with the longest name.\n",
    "\n",
    "_Hint: figure out how to calculate the length of the names first!_"
   ]
  },
  {
   "cell_type": "code",
   "execution_count": null,
   "id": "ac1bbff1",
   "metadata": {},
   "outputs": [],
   "source": []
  },
  {
   "cell_type": "markdown",
   "id": "54041f53",
   "metadata": {},
   "source": [
    "# Combining data\n",
    "\n",
    "`pandas` supports much more than just CSV files. It can connect to many different data sources.\n",
    "\n",
    "Once data is read into `pandas` it is always a `DataFrame` regardless of where it came from. This is one of the strengths of `pandas` and it means you can combine data *from different sources*.\n",
    "\n",
    "Let's see how we could connect to a SQL database."
   ]
  },
  {
   "cell_type": "code",
   "execution_count": null,
   "id": "5a02a756",
   "metadata": {},
   "outputs": [],
   "source": [
    "import sqlite3\n",
    "\n",
    "conn = sqlite3.connect(\"./data/movies.sqlite\")\n",
    "\n",
    "type(conn)"
   ]
  },
  {
   "cell_type": "markdown",
   "id": "6adf5c01",
   "metadata": {},
   "source": [
    "There are 3 tables in this database:\n",
    "\n",
    "- IMDB (a list of films)\n",
    "- earning (the amount of money grossed by each film)\n",
    "- genre (the genre of each film)\n",
    "\n",
    "We can use `pandas` to directly run a SQL query on our database and save the data as a `DataFrame`."
   ]
  },
  {
   "cell_type": "code",
   "execution_count": null,
   "id": "b39fd021",
   "metadata": {},
   "outputs": [],
   "source": [
    "films = pd.read_sql(\"\"\"\n",
    "SELECT\n",
    "    *\n",
    "FROM\n",
    "    IMDB\n",
    "\"\"\", conn)\n",
    "\n",
    "type(films)"
   ]
  },
  {
   "cell_type": "code",
   "execution_count": null,
   "id": "8aa7da70",
   "metadata": {},
   "outputs": [],
   "source": [
    "films.head()"
   ]
  },
  {
   "cell_type": "markdown",
   "id": "86c1b16b",
   "metadata": {},
   "source": [
    "Let's also select the genre data"
   ]
  },
  {
   "cell_type": "code",
   "execution_count": null,
   "id": "515f8120",
   "metadata": {},
   "outputs": [],
   "source": [
    "genres = pd.read_sql(\"\"\"\n",
    "SELECT\n",
    "    *\n",
    "FROM\n",
    "    genre\n",
    "\"\"\", conn)\n",
    "\n",
    "genres.head()"
   ]
  },
  {
   "cell_type": "markdown",
   "id": "3cd58b7b",
   "metadata": {},
   "source": [
    "We could join these tables directly in the database:"
   ]
  },
  {
   "cell_type": "code",
   "execution_count": null,
   "id": "d52d351b",
   "metadata": {},
   "outputs": [],
   "source": [
    "pd.read_sql(\"\"\"\n",
    "SELECT\n",
    "    *\n",
    "FROM\n",
    "    IMDB\n",
    "    JOIN genre ON IMDB.Movie_id = genre.Movie_id\n",
    "\"\"\", conn).head(10)"
   ]
  },
  {
   "cell_type": "markdown",
   "id": "a20434be",
   "metadata": {},
   "source": [
    "Or we could join them in `pandas`.\n",
    "\n",
    "We need to choose:\n",
    "\n",
    "- the datasets to join (or \"merge\" as it's called in `pandas`)\n",
    "- the column(s) to join on (can be different for each table)\n",
    "- the type of join (inner, left, right, etc.)"
   ]
  },
  {
   "cell_type": "code",
   "execution_count": null,
   "id": "8b135edf",
   "metadata": {},
   "outputs": [],
   "source": [
    "films_merged = films.merge(genres, on=\"Movie_id\", how=\"inner\")\n",
    "\n",
    "films_merged.head()"
   ]
  },
  {
   "cell_type": "markdown",
   "id": "fb632692",
   "metadata": {},
   "source": [
    "Oh oh, looks like our data is duplicated!"
   ]
  },
  {
   "cell_type": "code",
   "execution_count": null,
   "id": "436e0141",
   "metadata": {},
   "outputs": [],
   "source": [
    "print(len(films), len(genres))"
   ]
  },
  {
   "cell_type": "markdown",
   "id": "47184041",
   "metadata": {},
   "source": [
    "That's exactly 3 genre records per film.\n",
    "\n",
    "Our options include:\n",
    "\n",
    "- deduplicating at source (in the SQL query or even the database)\n",
    "- leaving the data as-is (but we'd have to remember there are 3 rows per film)\n",
    "- deduplicating *after* the join\n",
    "\n",
    "Let's see this third option in action:"
   ]
  },
  {
   "cell_type": "code",
   "execution_count": null,
   "id": "022ae88c",
   "metadata": {},
   "outputs": [],
   "source": [
    "films_deduped = films_merged.drop_duplicates(subset=[\"Movie_id\"], keep=\"first\")\n",
    "\n",
    "films_deduped.head()"
   ]
  },
  {
   "cell_type": "markdown",
   "id": "001bf8f3",
   "metadata": {},
   "source": [
    "<h1 style=\"color: #fcd805\">Exercise: combining data</h1>\n",
    "\n",
    "1. Select all the rows from the `earning` table in the movies database into a `pandas` `DataFrame`."
   ]
  },
  {
   "cell_type": "code",
   "execution_count": null,
   "id": "74d4080d",
   "metadata": {},
   "outputs": [],
   "source": []
  },
  {
   "cell_type": "markdown",
   "id": "42f40a59",
   "metadata": {},
   "source": [
    "2. Now join the earnings data onto the merged film+genre data.\n",
    "\n",
    "You should now have a `DataFrame` with one row per film and with genre and earnings data added on at the end.\n",
    "\n",
    "Verify that this is the case before moving on."
   ]
  },
  {
   "cell_type": "code",
   "execution_count": null,
   "id": "1752face",
   "metadata": {},
   "outputs": [],
   "source": []
  },
  {
   "cell_type": "markdown",
   "id": "0178f737",
   "metadata": {},
   "source": [
    "3. Which film earned the least **domestically**?"
   ]
  },
  {
   "cell_type": "code",
   "execution_count": null,
   "id": "db6a064e",
   "metadata": {},
   "outputs": [],
   "source": []
  },
  {
   "cell_type": "markdown",
   "id": "c528fe91",
   "metadata": {},
   "source": [
    "4. Which film earned the most **worldwide**?"
   ]
  },
  {
   "cell_type": "code",
   "execution_count": null,
   "id": "d0c970af",
   "metadata": {},
   "outputs": [],
   "source": []
  },
  {
   "cell_type": "markdown",
   "id": "fdc9a7a9",
   "metadata": {},
   "source": [
    "5. How many films have a MetaCritic score of less than 75?\n",
    "\n",
    "_Note: to answer this question you'll have to fix the data type of the column first and you may need to deal with some non-numeric values!_"
   ]
  },
  {
   "cell_type": "code",
   "execution_count": null,
   "id": "73380dde",
   "metadata": {},
   "outputs": [],
   "source": []
  },
  {
   "cell_type": "markdown",
   "id": "d6aed67f",
   "metadata": {},
   "source": [
    "6. Which genre has the highest total domestic earnings?"
   ]
  },
  {
   "cell_type": "code",
   "execution_count": null,
   "id": "38c49732",
   "metadata": {},
   "outputs": [],
   "source": []
  },
  {
   "cell_type": "markdown",
   "id": "33613e37",
   "metadata": {},
   "source": [
    "7. Convert the `Runtime` column to numeric.\n",
    "\n",
    "_Hint: You'll have to perform some string manipulation on it before you can do this._"
   ]
  },
  {
   "cell_type": "code",
   "execution_count": null,
   "id": "008ccbab",
   "metadata": {},
   "outputs": [],
   "source": []
  },
  {
   "cell_type": "markdown",
   "id": "f0aac822",
   "metadata": {},
   "source": [
    "8. Now find the genre with the highest **median** runtime."
   ]
  },
  {
   "cell_type": "code",
   "execution_count": null,
   "id": "3e438f51",
   "metadata": {},
   "outputs": [],
   "source": []
  },
  {
   "cell_type": "markdown",
   "id": "0cfbef53",
   "metadata": {},
   "source": [
    "<h1 style=\"color: #fcd805\">Exercise: pub names</h1>\n",
    "\n",
    "Let's do some open-ended data analysis with `pandas`!\n",
    "\n",
    "We're going to find out what the most common pub name is in the UK.\n",
    "\n",
    "1. Read in the file `open_pubs.csv` from the `data` folder into a `pandas` `DataFrame` (data originally from https://www.getthedata.com/open-pubs)."
   ]
  },
  {
   "cell_type": "code",
   "execution_count": null,
   "id": "9b36ff47",
   "metadata": {},
   "outputs": [],
   "source": []
  },
  {
   "cell_type": "markdown",
   "id": "d8b5dff5",
   "metadata": {},
   "source": [
    "2. Looks like there are no column headers!\n",
    "\n",
    "Here is the data dictionary for the dataset:\n",
    "\n",
    "|Field|Data type|Comments|\n",
    "|---|---|---|\n",
    "|fsa_id|int|Food Standard Agency's ID for this pub.|\n",
    "|name|string|Name of the pub.|\n",
    "|address|string|Address fields separated by commas.|\n",
    "|postcode|string|Postcode of the pub.|\n",
    "|easting|int| |\n",
    "|northing|int| |\n",
    "|latitude|decimal| |\n",
    "|longitude|decimal| |\n",
    "|local_authority|string|Local authority this pub falls under.|\n",
    "\n",
    "Read the documentation for the `read_csv` method and figure out how to add column names to the data when you read it in."
   ]
  },
  {
   "cell_type": "code",
   "execution_count": null,
   "id": "2ecc8292",
   "metadata": {},
   "outputs": [],
   "source": []
  },
  {
   "cell_type": "markdown",
   "id": "5fc12ff0",
   "metadata": {},
   "source": [
    "3. Check for any missing data. Drop any row with no name, since we need values from that column."
   ]
  },
  {
   "cell_type": "code",
   "execution_count": null,
   "id": "238f6ecd",
   "metadata": {},
   "outputs": [],
   "source": []
  },
  {
   "cell_type": "markdown",
   "id": "5f0ecd07",
   "metadata": {},
   "source": [
    "4. Convert the `name` column (or whatever you called it) to the correct `string` type."
   ]
  },
  {
   "cell_type": "code",
   "execution_count": null,
   "id": "c07c127c",
   "metadata": {},
   "outputs": [],
   "source": []
  },
  {
   "cell_type": "markdown",
   "id": "f4b030ed",
   "metadata": {},
   "source": [
    "5. Now convert the values in the `name` column to lowercase so that names like \"The King's Arms\" and \"The king's arms\" are treated as the same name."
   ]
  },
  {
   "cell_type": "code",
   "execution_count": null,
   "id": "e98dbdb3",
   "metadata": {},
   "outputs": [],
   "source": []
  },
  {
   "cell_type": "markdown",
   "id": "f3ee727f",
   "metadata": {},
   "source": [
    "6. Use the `.str.strip()` method to remove any trailing whitespace from the `name` column."
   ]
  },
  {
   "cell_type": "code",
   "execution_count": null,
   "id": "1bc51262",
   "metadata": {},
   "outputs": [],
   "source": []
  },
  {
   "cell_type": "markdown",
   "id": "f2b3e2a7",
   "metadata": {},
   "source": [
    "7. Now use `.str.replace` to remove the word \"the\" from the pub names, so that a pub called \"The King's Head\" will be treated as having the same name as one that's simply called \"King's Head\".\n",
    "\n",
    "*Tip: take care not to replace words that **contain** the word `the` like \"theatre\"*"
   ]
  },
  {
   "cell_type": "code",
   "execution_count": null,
   "id": "f04a5e11",
   "metadata": {},
   "outputs": [],
   "source": []
  },
  {
   "cell_type": "markdown",
   "id": "577abe5d",
   "metadata": {},
   "source": [
    "8. Use your `name` column to find the most common pub name in the UK."
   ]
  },
  {
   "cell_type": "code",
   "execution_count": null,
   "id": "7a24970b",
   "metadata": {},
   "outputs": [],
   "source": []
  },
  {
   "cell_type": "markdown",
   "id": "a6ac5d5e",
   "metadata": {},
   "source": [
    "BONUS: which local authority has the most of these pubs (i.e. the most pubs that have the most common name you found in question 8)?"
   ]
  },
  {
   "cell_type": "code",
   "execution_count": null,
   "id": "40cd785a",
   "metadata": {},
   "outputs": [],
   "source": []
  },
  {
   "cell_type": "markdown",
   "id": "4d4198a0",
   "metadata": {},
   "source": [
    "BONUS: how many unique pub names are there in the data? That is, pub names that appear exactly once."
   ]
  },
  {
   "cell_type": "code",
   "execution_count": null,
   "id": "2d126066",
   "metadata": {},
   "outputs": [],
   "source": []
  },
  {
   "cell_type": "markdown",
   "id": "b9b1a74a",
   "metadata": {},
   "source": [
    "# `pandas` help\n",
    "\n",
    "- pandastutor visualises what different operations do: https://pandastutor.com/\n",
    "- `pandas` cheat sheet: https://pandas.pydata.org/Pandas_Cheat_Sheet.pdf\n",
    "- Python for Data Analysis book (free online) by the creator of `pandas`: https://wesmckinney.com/book/"
   ]
  }
 ],
 "metadata": {
  "kernelspec": {
   "display_name": "Python 3 (ipykernel)",
   "language": "python",
   "name": "python3"
  },
  "language_info": {
   "codemirror_mode": {
    "name": "ipython",
    "version": 3
   },
   "file_extension": ".py",
   "mimetype": "text/x-python",
   "name": "python",
   "nbconvert_exporter": "python",
   "pygments_lexer": "ipython3",
   "version": "3.11.3"
  }
 },
 "nbformat": 4,
 "nbformat_minor": 5
}
